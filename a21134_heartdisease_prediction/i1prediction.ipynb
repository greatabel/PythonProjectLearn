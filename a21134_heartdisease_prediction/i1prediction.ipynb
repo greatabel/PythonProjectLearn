{
 "cells": [
  {
   "cell_type": "code",
   "execution_count": 1,
   "id": "004a94d5",
   "metadata": {
    "execution": {
     "iopub.execute_input": "2022-06-17T20:54:09.792701Z",
     "iopub.status.busy": "2022-06-17T20:54:09.791571Z",
     "iopub.status.idle": "2022-06-17T20:54:12.035678Z",
     "shell.execute_reply": "2022-06-17T20:54:12.034179Z"
    },
    "papermill": {
     "duration": 2.274446,
     "end_time": "2022-06-17T20:54:12.043543",
     "exception": false,
     "start_time": "2022-06-17T20:54:09.769097",
     "status": "completed"
    },
    "tags": []
   },
   "outputs": [],
   "source": [
    "import pandas as pd\n",
    "import numpy as np\n",
    "import matplotlib.pyplot as plt\n",
    "import seaborn as sns\n",
    "from sklearn.model_selection import train_test_split\n",
    "from sklearn.preprocessing import StandardScaler\n",
    "from sklearn.linear_model import LogisticRegression\n",
    "from sklearn.ensemble import RandomForestClassifier\n",
    "from sklearn.tree import DecisionTreeClassifier\n",
    "\n",
    "from sklearn.metrics import confusion_matrix\n",
    "from sklearn.metrics import classification_report\n",
    "from sklearn.metrics import accuracy_score\n",
    "from sklearn.metrics import roc_auc_score,roc_curve\n",
    "import warnings\n",
    "%matplotlib inline\n",
    "warnings.filterwarnings('ignore')"
   ]
  },
  {
   "cell_type": "code",
   "execution_count": 2,
   "id": "a092e965",
   "metadata": {
    "execution": {
     "iopub.execute_input": "2022-06-17T20:54:12.099826Z",
     "iopub.status.busy": "2022-06-17T20:54:12.099028Z",
     "iopub.status.idle": "2022-06-17T20:54:12.134307Z",
     "shell.execute_reply": "2022-06-17T20:54:12.132565Z"
    },
    "papermill": {
     "duration": 0.066757,
     "end_time": "2022-06-17T20:54:12.138899",
     "exception": false,
     "start_time": "2022-06-17T20:54:12.072142",
     "status": "completed"
    },
    "tags": []
   },
   "outputs": [],
   "source": [
    "data1 = pd.read_csv('data/Heart Disease Dataset.csv')"
   ]
  },
  {
   "cell_type": "code",
   "execution_count": 3,
   "id": "f27d7efc",
   "metadata": {
    "execution": {
     "iopub.execute_input": "2022-06-17T20:54:12.186688Z",
     "iopub.status.busy": "2022-06-17T20:54:12.186132Z",
     "iopub.status.idle": "2022-06-17T20:54:12.221915Z",
     "shell.execute_reply": "2022-06-17T20:54:12.220525Z"
    },
    "papermill": {
     "duration": 0.063285,
     "end_time": "2022-06-17T20:54:12.225991",
     "exception": false,
     "start_time": "2022-06-17T20:54:12.162706",
     "status": "completed"
    },
    "tags": []
   },
   "outputs": [
    {
     "data": {
      "text/html": [
       "<div>\n",
       "<style scoped>\n",
       "    .dataframe tbody tr th:only-of-type {\n",
       "        vertical-align: middle;\n",
       "    }\n",
       "\n",
       "    .dataframe tbody tr th {\n",
       "        vertical-align: top;\n",
       "    }\n",
       "\n",
       "    .dataframe thead th {\n",
       "        text-align: right;\n",
       "    }\n",
       "</style>\n",
       "<table border=\"1\" class=\"dataframe\">\n",
       "  <thead>\n",
       "    <tr style=\"text-align: right;\">\n",
       "      <th></th>\n",
       "      <th>age</th>\n",
       "      <th>sex</th>\n",
       "      <th>cp</th>\n",
       "      <th>trestbps</th>\n",
       "      <th>chol</th>\n",
       "      <th>fbs</th>\n",
       "      <th>restecg</th>\n",
       "      <th>thalach</th>\n",
       "      <th>exang</th>\n",
       "      <th>oldpeak</th>\n",
       "      <th>slope</th>\n",
       "      <th>ca</th>\n",
       "      <th>thal</th>\n",
       "      <th>target</th>\n",
       "    </tr>\n",
       "  </thead>\n",
       "  <tbody>\n",
       "    <tr>\n",
       "      <th>0</th>\n",
       "      <td>63</td>\n",
       "      <td>1</td>\n",
       "      <td>1</td>\n",
       "      <td>145</td>\n",
       "      <td>233</td>\n",
       "      <td>1</td>\n",
       "      <td>2</td>\n",
       "      <td>150</td>\n",
       "      <td>0</td>\n",
       "      <td>2.3</td>\n",
       "      <td>3</td>\n",
       "      <td>0</td>\n",
       "      <td>1</td>\n",
       "      <td>0</td>\n",
       "    </tr>\n",
       "    <tr>\n",
       "      <th>1</th>\n",
       "      <td>67</td>\n",
       "      <td>1</td>\n",
       "      <td>4</td>\n",
       "      <td>160</td>\n",
       "      <td>286</td>\n",
       "      <td>0</td>\n",
       "      <td>2</td>\n",
       "      <td>108</td>\n",
       "      <td>1</td>\n",
       "      <td>1.5</td>\n",
       "      <td>2</td>\n",
       "      <td>3</td>\n",
       "      <td>0</td>\n",
       "      <td>1</td>\n",
       "    </tr>\n",
       "    <tr>\n",
       "      <th>2</th>\n",
       "      <td>67</td>\n",
       "      <td>1</td>\n",
       "      <td>4</td>\n",
       "      <td>120</td>\n",
       "      <td>229</td>\n",
       "      <td>0</td>\n",
       "      <td>2</td>\n",
       "      <td>129</td>\n",
       "      <td>1</td>\n",
       "      <td>2.6</td>\n",
       "      <td>2</td>\n",
       "      <td>2</td>\n",
       "      <td>2</td>\n",
       "      <td>1</td>\n",
       "    </tr>\n",
       "    <tr>\n",
       "      <th>3</th>\n",
       "      <td>37</td>\n",
       "      <td>1</td>\n",
       "      <td>3</td>\n",
       "      <td>130</td>\n",
       "      <td>250</td>\n",
       "      <td>0</td>\n",
       "      <td>0</td>\n",
       "      <td>187</td>\n",
       "      <td>0</td>\n",
       "      <td>3.5</td>\n",
       "      <td>3</td>\n",
       "      <td>0</td>\n",
       "      <td>0</td>\n",
       "      <td>0</td>\n",
       "    </tr>\n",
       "    <tr>\n",
       "      <th>4</th>\n",
       "      <td>41</td>\n",
       "      <td>0</td>\n",
       "      <td>2</td>\n",
       "      <td>130</td>\n",
       "      <td>204</td>\n",
       "      <td>0</td>\n",
       "      <td>2</td>\n",
       "      <td>172</td>\n",
       "      <td>0</td>\n",
       "      <td>1.4</td>\n",
       "      <td>1</td>\n",
       "      <td>0</td>\n",
       "      <td>0</td>\n",
       "      <td>0</td>\n",
       "    </tr>\n",
       "  </tbody>\n",
       "</table>\n",
       "</div>"
      ],
      "text/plain": [
       "   age  sex  cp  trestbps  chol  fbs  restecg  thalach  exang  oldpeak  slope  \\\n",
       "0   63    1   1       145   233    1        2      150      0      2.3      3   \n",
       "1   67    1   4       160   286    0        2      108      1      1.5      2   \n",
       "2   67    1   4       120   229    0        2      129      1      2.6      2   \n",
       "3   37    1   3       130   250    0        0      187      0      3.5      3   \n",
       "4   41    0   2       130   204    0        2      172      0      1.4      1   \n",
       "\n",
       "   ca  thal  target  \n",
       "0   0     1       0  \n",
       "1   3     0       1  \n",
       "2   2     2       1  \n",
       "3   0     0       0  \n",
       "4   0     0       0  "
      ]
     },
     "execution_count": 3,
     "metadata": {},
     "output_type": "execute_result"
    }
   ],
   "source": [
    "data1.head()"
   ]
  },
  {
   "cell_type": "code",
   "execution_count": 4,
   "id": "128c039b",
   "metadata": {
    "execution": {
     "iopub.execute_input": "2022-06-17T20:54:12.264438Z",
     "iopub.status.busy": "2022-06-17T20:54:12.263949Z",
     "iopub.status.idle": "2022-06-17T20:54:12.299172Z",
     "shell.execute_reply": "2022-06-17T20:54:12.297407Z"
    },
    "papermill": {
     "duration": 0.057648,
     "end_time": "2022-06-17T20:54:12.302028",
     "exception": false,
     "start_time": "2022-06-17T20:54:12.244380",
     "status": "completed"
    },
    "tags": []
   },
   "outputs": [
    {
     "name": "stdout",
     "output_type": "stream",
     "text": [
      "<class 'pandas.core.frame.DataFrame'>\n",
      "RangeIndex: 297 entries, 0 to 296\n",
      "Data columns (total 14 columns):\n",
      " #   Column    Non-Null Count  Dtype  \n",
      "---  ------    --------------  -----  \n",
      " 0   age       297 non-null    int64  \n",
      " 1   sex       297 non-null    int64  \n",
      " 2   cp        297 non-null    int64  \n",
      " 3   trestbps  297 non-null    int64  \n",
      " 4   chol      297 non-null    int64  \n",
      " 5   fbs       297 non-null    int64  \n",
      " 6   restecg   297 non-null    int64  \n",
      " 7   thalach   297 non-null    int64  \n",
      " 8   exang     297 non-null    int64  \n",
      " 9   oldpeak   297 non-null    float64\n",
      " 10  slope     297 non-null    int64  \n",
      " 11  ca        297 non-null    int64  \n",
      " 12  thal      297 non-null    int64  \n",
      " 13  target    297 non-null    int64  \n",
      "dtypes: float64(1), int64(13)\n",
      "memory usage: 32.6 KB\n"
     ]
    }
   ],
   "source": [
    "data1.info()"
   ]
  },
  {
   "cell_type": "code",
   "execution_count": 5,
   "id": "3c332965",
   "metadata": {
    "execution": {
     "iopub.execute_input": "2022-06-17T20:54:12.344532Z",
     "iopub.status.busy": "2022-06-17T20:54:12.343384Z",
     "iopub.status.idle": "2022-06-17T20:54:12.351182Z",
     "shell.execute_reply": "2022-06-17T20:54:12.350192Z"
    },
    "papermill": {
     "duration": 0.028969,
     "end_time": "2022-06-17T20:54:12.353450",
     "exception": false,
     "start_time": "2022-06-17T20:54:12.324481",
     "status": "completed"
    },
    "tags": []
   },
   "outputs": [
    {
     "data": {
      "text/plain": [
       "(297, 14)"
      ]
     },
     "execution_count": 5,
     "metadata": {},
     "output_type": "execute_result"
    }
   ],
   "source": [
    "data1.shape"
   ]
  },
  {
   "cell_type": "code",
   "execution_count": 6,
   "id": "8905554c",
   "metadata": {
    "execution": {
     "iopub.execute_input": "2022-06-17T20:54:12.389953Z",
     "iopub.status.busy": "2022-06-17T20:54:12.388749Z",
     "iopub.status.idle": "2022-06-17T20:54:12.397065Z",
     "shell.execute_reply": "2022-06-17T20:54:12.396191Z"
    },
    "papermill": {
     "duration": 0.029166,
     "end_time": "2022-06-17T20:54:12.399385",
     "exception": false,
     "start_time": "2022-06-17T20:54:12.370219",
     "status": "completed"
    },
    "tags": []
   },
   "outputs": [
    {
     "data": {
      "text/plain": [
       "RangeIndex(start=0, stop=297, step=1)"
      ]
     },
     "execution_count": 6,
     "metadata": {},
     "output_type": "execute_result"
    }
   ],
   "source": [
    "data1.index"
   ]
  },
  {
   "cell_type": "code",
   "execution_count": 7,
   "id": "0f23dc3c",
   "metadata": {
    "execution": {
     "iopub.execute_input": "2022-06-17T20:54:12.438480Z",
     "iopub.status.busy": "2022-06-17T20:54:12.437895Z",
     "iopub.status.idle": "2022-06-17T20:54:12.447017Z",
     "shell.execute_reply": "2022-06-17T20:54:12.445820Z"
    },
    "papermill": {
     "duration": 0.031611,
     "end_time": "2022-06-17T20:54:12.449796",
     "exception": false,
     "start_time": "2022-06-17T20:54:12.418185",
     "status": "completed"
    },
    "tags": []
   },
   "outputs": [
    {
     "data": {
      "text/plain": [
       "Index(['age', 'sex', 'cp', 'trestbps', 'chol', 'fbs', 'restecg', 'thalach',\n",
       "       'exang', 'oldpeak', 'slope', 'ca', 'thal', 'target'],\n",
       "      dtype='object')"
      ]
     },
     "execution_count": 7,
     "metadata": {},
     "output_type": "execute_result"
    }
   ],
   "source": [
    "data1.columns"
   ]
  },
  {
   "cell_type": "code",
   "execution_count": 8,
   "id": "836f4eda",
   "metadata": {
    "execution": {
     "iopub.execute_input": "2022-06-17T20:54:12.491573Z",
     "iopub.status.busy": "2022-06-17T20:54:12.490613Z",
     "iopub.status.idle": "2022-06-17T20:54:12.523408Z",
     "shell.execute_reply": "2022-06-17T20:54:12.522509Z"
    },
    "papermill": {
     "duration": 0.057708,
     "end_time": "2022-06-17T20:54:12.526522",
     "exception": false,
     "start_time": "2022-06-17T20:54:12.468814",
     "status": "completed"
    },
    "tags": []
   },
   "outputs": [
    {
     "data": {
      "text/html": [
       "<div>\n",
       "<style scoped>\n",
       "    .dataframe tbody tr th:only-of-type {\n",
       "        vertical-align: middle;\n",
       "    }\n",
       "\n",
       "    .dataframe tbody tr th {\n",
       "        vertical-align: top;\n",
       "    }\n",
       "\n",
       "    .dataframe thead th {\n",
       "        text-align: right;\n",
       "    }\n",
       "</style>\n",
       "<table border=\"1\" class=\"dataframe\">\n",
       "  <thead>\n",
       "    <tr style=\"text-align: right;\">\n",
       "      <th></th>\n",
       "      <th>age</th>\n",
       "      <th>sex</th>\n",
       "      <th>cp</th>\n",
       "      <th>trestbps</th>\n",
       "      <th>chol</th>\n",
       "      <th>fbs</th>\n",
       "      <th>restecg</th>\n",
       "      <th>thalach</th>\n",
       "      <th>exang</th>\n",
       "      <th>oldpeak</th>\n",
       "      <th>slope</th>\n",
       "      <th>ca</th>\n",
       "      <th>thal</th>\n",
       "      <th>target</th>\n",
       "    </tr>\n",
       "  </thead>\n",
       "  <tbody>\n",
       "    <tr>\n",
       "      <th>0</th>\n",
       "      <td>False</td>\n",
       "      <td>False</td>\n",
       "      <td>False</td>\n",
       "      <td>False</td>\n",
       "      <td>False</td>\n",
       "      <td>False</td>\n",
       "      <td>False</td>\n",
       "      <td>False</td>\n",
       "      <td>False</td>\n",
       "      <td>False</td>\n",
       "      <td>False</td>\n",
       "      <td>False</td>\n",
       "      <td>False</td>\n",
       "      <td>False</td>\n",
       "    </tr>\n",
       "    <tr>\n",
       "      <th>1</th>\n",
       "      <td>False</td>\n",
       "      <td>False</td>\n",
       "      <td>False</td>\n",
       "      <td>False</td>\n",
       "      <td>False</td>\n",
       "      <td>False</td>\n",
       "      <td>False</td>\n",
       "      <td>False</td>\n",
       "      <td>False</td>\n",
       "      <td>False</td>\n",
       "      <td>False</td>\n",
       "      <td>False</td>\n",
       "      <td>False</td>\n",
       "      <td>False</td>\n",
       "    </tr>\n",
       "    <tr>\n",
       "      <th>2</th>\n",
       "      <td>False</td>\n",
       "      <td>False</td>\n",
       "      <td>False</td>\n",
       "      <td>False</td>\n",
       "      <td>False</td>\n",
       "      <td>False</td>\n",
       "      <td>False</td>\n",
       "      <td>False</td>\n",
       "      <td>False</td>\n",
       "      <td>False</td>\n",
       "      <td>False</td>\n",
       "      <td>False</td>\n",
       "      <td>False</td>\n",
       "      <td>False</td>\n",
       "    </tr>\n",
       "    <tr>\n",
       "      <th>3</th>\n",
       "      <td>False</td>\n",
       "      <td>False</td>\n",
       "      <td>False</td>\n",
       "      <td>False</td>\n",
       "      <td>False</td>\n",
       "      <td>False</td>\n",
       "      <td>False</td>\n",
       "      <td>False</td>\n",
       "      <td>False</td>\n",
       "      <td>False</td>\n",
       "      <td>False</td>\n",
       "      <td>False</td>\n",
       "      <td>False</td>\n",
       "      <td>False</td>\n",
       "    </tr>\n",
       "    <tr>\n",
       "      <th>4</th>\n",
       "      <td>False</td>\n",
       "      <td>False</td>\n",
       "      <td>False</td>\n",
       "      <td>False</td>\n",
       "      <td>False</td>\n",
       "      <td>False</td>\n",
       "      <td>False</td>\n",
       "      <td>False</td>\n",
       "      <td>False</td>\n",
       "      <td>False</td>\n",
       "      <td>False</td>\n",
       "      <td>False</td>\n",
       "      <td>False</td>\n",
       "      <td>False</td>\n",
       "    </tr>\n",
       "    <tr>\n",
       "      <th>...</th>\n",
       "      <td>...</td>\n",
       "      <td>...</td>\n",
       "      <td>...</td>\n",
       "      <td>...</td>\n",
       "      <td>...</td>\n",
       "      <td>...</td>\n",
       "      <td>...</td>\n",
       "      <td>...</td>\n",
       "      <td>...</td>\n",
       "      <td>...</td>\n",
       "      <td>...</td>\n",
       "      <td>...</td>\n",
       "      <td>...</td>\n",
       "      <td>...</td>\n",
       "    </tr>\n",
       "    <tr>\n",
       "      <th>292</th>\n",
       "      <td>False</td>\n",
       "      <td>False</td>\n",
       "      <td>False</td>\n",
       "      <td>False</td>\n",
       "      <td>False</td>\n",
       "      <td>False</td>\n",
       "      <td>False</td>\n",
       "      <td>False</td>\n",
       "      <td>False</td>\n",
       "      <td>False</td>\n",
       "      <td>False</td>\n",
       "      <td>False</td>\n",
       "      <td>False</td>\n",
       "      <td>False</td>\n",
       "    </tr>\n",
       "    <tr>\n",
       "      <th>293</th>\n",
       "      <td>False</td>\n",
       "      <td>False</td>\n",
       "      <td>False</td>\n",
       "      <td>False</td>\n",
       "      <td>False</td>\n",
       "      <td>False</td>\n",
       "      <td>False</td>\n",
       "      <td>False</td>\n",
       "      <td>False</td>\n",
       "      <td>False</td>\n",
       "      <td>False</td>\n",
       "      <td>False</td>\n",
       "      <td>False</td>\n",
       "      <td>False</td>\n",
       "    </tr>\n",
       "    <tr>\n",
       "      <th>294</th>\n",
       "      <td>False</td>\n",
       "      <td>False</td>\n",
       "      <td>False</td>\n",
       "      <td>False</td>\n",
       "      <td>False</td>\n",
       "      <td>False</td>\n",
       "      <td>False</td>\n",
       "      <td>False</td>\n",
       "      <td>False</td>\n",
       "      <td>False</td>\n",
       "      <td>False</td>\n",
       "      <td>False</td>\n",
       "      <td>False</td>\n",
       "      <td>False</td>\n",
       "    </tr>\n",
       "    <tr>\n",
       "      <th>295</th>\n",
       "      <td>False</td>\n",
       "      <td>False</td>\n",
       "      <td>False</td>\n",
       "      <td>False</td>\n",
       "      <td>False</td>\n",
       "      <td>False</td>\n",
       "      <td>False</td>\n",
       "      <td>False</td>\n",
       "      <td>False</td>\n",
       "      <td>False</td>\n",
       "      <td>False</td>\n",
       "      <td>False</td>\n",
       "      <td>False</td>\n",
       "      <td>False</td>\n",
       "    </tr>\n",
       "    <tr>\n",
       "      <th>296</th>\n",
       "      <td>False</td>\n",
       "      <td>False</td>\n",
       "      <td>False</td>\n",
       "      <td>False</td>\n",
       "      <td>False</td>\n",
       "      <td>False</td>\n",
       "      <td>False</td>\n",
       "      <td>False</td>\n",
       "      <td>False</td>\n",
       "      <td>False</td>\n",
       "      <td>False</td>\n",
       "      <td>False</td>\n",
       "      <td>False</td>\n",
       "      <td>False</td>\n",
       "    </tr>\n",
       "  </tbody>\n",
       "</table>\n",
       "<p>297 rows × 14 columns</p>\n",
       "</div>"
      ],
      "text/plain": [
       "       age    sex     cp  trestbps   chol    fbs  restecg  thalach  exang  \\\n",
       "0    False  False  False     False  False  False    False    False  False   \n",
       "1    False  False  False     False  False  False    False    False  False   \n",
       "2    False  False  False     False  False  False    False    False  False   \n",
       "3    False  False  False     False  False  False    False    False  False   \n",
       "4    False  False  False     False  False  False    False    False  False   \n",
       "..     ...    ...    ...       ...    ...    ...      ...      ...    ...   \n",
       "292  False  False  False     False  False  False    False    False  False   \n",
       "293  False  False  False     False  False  False    False    False  False   \n",
       "294  False  False  False     False  False  False    False    False  False   \n",
       "295  False  False  False     False  False  False    False    False  False   \n",
       "296  False  False  False     False  False  False    False    False  False   \n",
       "\n",
       "     oldpeak  slope     ca   thal  target  \n",
       "0      False  False  False  False   False  \n",
       "1      False  False  False  False   False  \n",
       "2      False  False  False  False   False  \n",
       "3      False  False  False  False   False  \n",
       "4      False  False  False  False   False  \n",
       "..       ...    ...    ...    ...     ...  \n",
       "292    False  False  False  False   False  \n",
       "293    False  False  False  False   False  \n",
       "294    False  False  False  False   False  \n",
       "295    False  False  False  False   False  \n",
       "296    False  False  False  False   False  \n",
       "\n",
       "[297 rows x 14 columns]"
      ]
     },
     "execution_count": 8,
     "metadata": {},
     "output_type": "execute_result"
    }
   ],
   "source": [
    "data1.isna()"
   ]
  },
  {
   "cell_type": "code",
   "execution_count": 9,
   "id": "ae459e20",
   "metadata": {
    "execution": {
     "iopub.execute_input": "2022-06-17T20:54:12.569780Z",
     "iopub.status.busy": "2022-06-17T20:54:12.568657Z",
     "iopub.status.idle": "2022-06-17T20:54:12.582300Z",
     "shell.execute_reply": "2022-06-17T20:54:12.580989Z"
    },
    "papermill": {
     "duration": 0.03938,
     "end_time": "2022-06-17T20:54:12.586298",
     "exception": false,
     "start_time": "2022-06-17T20:54:12.546918",
     "status": "completed"
    },
    "tags": []
   },
   "outputs": [
    {
     "data": {
      "text/plain": [
       "age         False\n",
       "sex         False\n",
       "cp          False\n",
       "trestbps    False\n",
       "chol        False\n",
       "fbs         False\n",
       "restecg     False\n",
       "thalach     False\n",
       "exang       False\n",
       "oldpeak     False\n",
       "slope       False\n",
       "ca          False\n",
       "thal        False\n",
       "target      False\n",
       "dtype: bool"
      ]
     },
     "execution_count": 9,
     "metadata": {},
     "output_type": "execute_result"
    }
   ],
   "source": [
    "data1.isna().any()"
   ]
  },
  {
   "cell_type": "code",
   "execution_count": 10,
   "id": "8bcd803c",
   "metadata": {
    "execution": {
     "iopub.execute_input": "2022-06-17T20:54:12.628880Z",
     "iopub.status.busy": "2022-06-17T20:54:12.627399Z",
     "iopub.status.idle": "2022-06-17T20:54:12.640547Z",
     "shell.execute_reply": "2022-06-17T20:54:12.639432Z"
    },
    "papermill": {
     "duration": 0.037374,
     "end_time": "2022-06-17T20:54:12.643104",
     "exception": false,
     "start_time": "2022-06-17T20:54:12.605730",
     "status": "completed"
    },
    "tags": []
   },
   "outputs": [
    {
     "data": {
      "text/plain": [
       "age         0\n",
       "sex         0\n",
       "cp          0\n",
       "trestbps    0\n",
       "chol        0\n",
       "fbs         0\n",
       "restecg     0\n",
       "thalach     0\n",
       "exang       0\n",
       "oldpeak     0\n",
       "slope       0\n",
       "ca          0\n",
       "thal        0\n",
       "target      0\n",
       "dtype: int64"
      ]
     },
     "execution_count": 10,
     "metadata": {},
     "output_type": "execute_result"
    }
   ],
   "source": [
    "data1.isnull().sum()"
   ]
  },
  {
   "cell_type": "code",
   "execution_count": 11,
   "id": "9250737b",
   "metadata": {
    "execution": {
     "iopub.execute_input": "2022-06-17T20:54:12.682744Z",
     "iopub.status.busy": "2022-06-17T20:54:12.681069Z",
     "iopub.status.idle": "2022-06-17T20:54:12.696540Z",
     "shell.execute_reply": "2022-06-17T20:54:12.695607Z"
    },
    "papermill": {
     "duration": 0.040017,
     "end_time": "2022-06-17T20:54:12.701472",
     "exception": false,
     "start_time": "2022-06-17T20:54:12.661455",
     "status": "completed"
    },
    "tags": []
   },
   "outputs": [
    {
     "data": {
      "text/plain": [
       "False"
      ]
     },
     "execution_count": 11,
     "metadata": {},
     "output_type": "execute_result"
    }
   ],
   "source": [
    "data1.duplicated().any()"
   ]
  },
  {
   "cell_type": "code",
   "execution_count": 12,
   "id": "5a6d3846",
   "metadata": {
    "execution": {
     "iopub.execute_input": "2022-06-17T20:54:12.749499Z",
     "iopub.status.busy": "2022-06-17T20:54:12.748463Z",
     "iopub.status.idle": "2022-06-17T20:54:12.758870Z",
     "shell.execute_reply": "2022-06-17T20:54:12.757402Z"
    },
    "papermill": {
     "duration": 0.037799,
     "end_time": "2022-06-17T20:54:12.761717",
     "exception": false,
     "start_time": "2022-06-17T20:54:12.723918",
     "status": "completed"
    },
    "tags": []
   },
   "outputs": [],
   "source": [
    "data2 = data1.drop_duplicates()"
   ]
  },
  {
   "cell_type": "code",
   "execution_count": 13,
   "id": "534c927c",
   "metadata": {
    "execution": {
     "iopub.execute_input": "2022-06-17T20:54:12.804887Z",
     "iopub.status.busy": "2022-06-17T20:54:12.804132Z",
     "iopub.status.idle": "2022-06-17T20:54:12.812853Z",
     "shell.execute_reply": "2022-06-17T20:54:12.811660Z"
    },
    "papermill": {
     "duration": 0.033045,
     "end_time": "2022-06-17T20:54:12.815226",
     "exception": false,
     "start_time": "2022-06-17T20:54:12.782181",
     "status": "completed"
    },
    "tags": []
   },
   "outputs": [
    {
     "data": {
      "text/plain": [
       "((297, 14), (297, 14))"
      ]
     },
     "execution_count": 13,
     "metadata": {},
     "output_type": "execute_result"
    }
   ],
   "source": [
    "data1.shape, data2.shape"
   ]
  },
  {
   "cell_type": "code",
   "execution_count": 14,
   "id": "f3abf92b",
   "metadata": {
    "execution": {
     "iopub.execute_input": "2022-06-17T20:54:12.854859Z",
     "iopub.status.busy": "2022-06-17T20:54:12.853930Z",
     "iopub.status.idle": "2022-06-17T20:54:12.918297Z",
     "shell.execute_reply": "2022-06-17T20:54:12.917244Z"
    },
    "papermill": {
     "duration": 0.087614,
     "end_time": "2022-06-17T20:54:12.921285",
     "exception": false,
     "start_time": "2022-06-17T20:54:12.833671",
     "status": "completed"
    },
    "tags": []
   },
   "outputs": [
    {
     "data": {
      "text/html": [
       "<div>\n",
       "<style scoped>\n",
       "    .dataframe tbody tr th:only-of-type {\n",
       "        vertical-align: middle;\n",
       "    }\n",
       "\n",
       "    .dataframe tbody tr th {\n",
       "        vertical-align: top;\n",
       "    }\n",
       "\n",
       "    .dataframe thead th {\n",
       "        text-align: right;\n",
       "    }\n",
       "</style>\n",
       "<table border=\"1\" class=\"dataframe\">\n",
       "  <thead>\n",
       "    <tr style=\"text-align: right;\">\n",
       "      <th></th>\n",
       "      <th>age</th>\n",
       "      <th>sex</th>\n",
       "      <th>cp</th>\n",
       "      <th>trestbps</th>\n",
       "      <th>chol</th>\n",
       "      <th>fbs</th>\n",
       "      <th>restecg</th>\n",
       "      <th>thalach</th>\n",
       "      <th>exang</th>\n",
       "      <th>oldpeak</th>\n",
       "      <th>slope</th>\n",
       "      <th>ca</th>\n",
       "      <th>thal</th>\n",
       "      <th>target</th>\n",
       "    </tr>\n",
       "  </thead>\n",
       "  <tbody>\n",
       "    <tr>\n",
       "      <th>count</th>\n",
       "      <td>297.000000</td>\n",
       "      <td>297.000000</td>\n",
       "      <td>297.000000</td>\n",
       "      <td>297.000000</td>\n",
       "      <td>297.000000</td>\n",
       "      <td>297.000000</td>\n",
       "      <td>297.000000</td>\n",
       "      <td>297.000000</td>\n",
       "      <td>297.000000</td>\n",
       "      <td>297.000000</td>\n",
       "      <td>297.000000</td>\n",
       "      <td>297.000000</td>\n",
       "      <td>297.000000</td>\n",
       "      <td>297.000000</td>\n",
       "    </tr>\n",
       "    <tr>\n",
       "      <th>mean</th>\n",
       "      <td>54.542088</td>\n",
       "      <td>0.676768</td>\n",
       "      <td>3.158249</td>\n",
       "      <td>131.693603</td>\n",
       "      <td>247.350168</td>\n",
       "      <td>0.144781</td>\n",
       "      <td>0.996633</td>\n",
       "      <td>149.599327</td>\n",
       "      <td>0.326599</td>\n",
       "      <td>1.055556</td>\n",
       "      <td>1.602694</td>\n",
       "      <td>0.676768</td>\n",
       "      <td>0.835017</td>\n",
       "      <td>0.461279</td>\n",
       "    </tr>\n",
       "    <tr>\n",
       "      <th>std</th>\n",
       "      <td>9.049736</td>\n",
       "      <td>0.468500</td>\n",
       "      <td>0.964859</td>\n",
       "      <td>17.762806</td>\n",
       "      <td>51.997583</td>\n",
       "      <td>0.352474</td>\n",
       "      <td>0.994914</td>\n",
       "      <td>22.941562</td>\n",
       "      <td>0.469761</td>\n",
       "      <td>1.166123</td>\n",
       "      <td>0.618187</td>\n",
       "      <td>0.938965</td>\n",
       "      <td>0.956690</td>\n",
       "      <td>0.499340</td>\n",
       "    </tr>\n",
       "    <tr>\n",
       "      <th>min</th>\n",
       "      <td>29.000000</td>\n",
       "      <td>0.000000</td>\n",
       "      <td>1.000000</td>\n",
       "      <td>94.000000</td>\n",
       "      <td>126.000000</td>\n",
       "      <td>0.000000</td>\n",
       "      <td>0.000000</td>\n",
       "      <td>71.000000</td>\n",
       "      <td>0.000000</td>\n",
       "      <td>0.000000</td>\n",
       "      <td>1.000000</td>\n",
       "      <td>0.000000</td>\n",
       "      <td>0.000000</td>\n",
       "      <td>0.000000</td>\n",
       "    </tr>\n",
       "    <tr>\n",
       "      <th>25%</th>\n",
       "      <td>48.000000</td>\n",
       "      <td>0.000000</td>\n",
       "      <td>3.000000</td>\n",
       "      <td>120.000000</td>\n",
       "      <td>211.000000</td>\n",
       "      <td>0.000000</td>\n",
       "      <td>0.000000</td>\n",
       "      <td>133.000000</td>\n",
       "      <td>0.000000</td>\n",
       "      <td>0.000000</td>\n",
       "      <td>1.000000</td>\n",
       "      <td>0.000000</td>\n",
       "      <td>0.000000</td>\n",
       "      <td>0.000000</td>\n",
       "    </tr>\n",
       "    <tr>\n",
       "      <th>50%</th>\n",
       "      <td>56.000000</td>\n",
       "      <td>1.000000</td>\n",
       "      <td>3.000000</td>\n",
       "      <td>130.000000</td>\n",
       "      <td>243.000000</td>\n",
       "      <td>0.000000</td>\n",
       "      <td>1.000000</td>\n",
       "      <td>153.000000</td>\n",
       "      <td>0.000000</td>\n",
       "      <td>0.800000</td>\n",
       "      <td>2.000000</td>\n",
       "      <td>0.000000</td>\n",
       "      <td>0.000000</td>\n",
       "      <td>0.000000</td>\n",
       "    </tr>\n",
       "    <tr>\n",
       "      <th>75%</th>\n",
       "      <td>61.000000</td>\n",
       "      <td>1.000000</td>\n",
       "      <td>4.000000</td>\n",
       "      <td>140.000000</td>\n",
       "      <td>276.000000</td>\n",
       "      <td>0.000000</td>\n",
       "      <td>2.000000</td>\n",
       "      <td>166.000000</td>\n",
       "      <td>1.000000</td>\n",
       "      <td>1.600000</td>\n",
       "      <td>2.000000</td>\n",
       "      <td>1.000000</td>\n",
       "      <td>2.000000</td>\n",
       "      <td>1.000000</td>\n",
       "    </tr>\n",
       "    <tr>\n",
       "      <th>max</th>\n",
       "      <td>77.000000</td>\n",
       "      <td>1.000000</td>\n",
       "      <td>4.000000</td>\n",
       "      <td>200.000000</td>\n",
       "      <td>564.000000</td>\n",
       "      <td>1.000000</td>\n",
       "      <td>2.000000</td>\n",
       "      <td>202.000000</td>\n",
       "      <td>1.000000</td>\n",
       "      <td>6.200000</td>\n",
       "      <td>3.000000</td>\n",
       "      <td>3.000000</td>\n",
       "      <td>2.000000</td>\n",
       "      <td>1.000000</td>\n",
       "    </tr>\n",
       "  </tbody>\n",
       "</table>\n",
       "</div>"
      ],
      "text/plain": [
       "              age         sex          cp    trestbps        chol         fbs  \\\n",
       "count  297.000000  297.000000  297.000000  297.000000  297.000000  297.000000   \n",
       "mean    54.542088    0.676768    3.158249  131.693603  247.350168    0.144781   \n",
       "std      9.049736    0.468500    0.964859   17.762806   51.997583    0.352474   \n",
       "min     29.000000    0.000000    1.000000   94.000000  126.000000    0.000000   \n",
       "25%     48.000000    0.000000    3.000000  120.000000  211.000000    0.000000   \n",
       "50%     56.000000    1.000000    3.000000  130.000000  243.000000    0.000000   \n",
       "75%     61.000000    1.000000    4.000000  140.000000  276.000000    0.000000   \n",
       "max     77.000000    1.000000    4.000000  200.000000  564.000000    1.000000   \n",
       "\n",
       "          restecg     thalach       exang     oldpeak       slope          ca  \\\n",
       "count  297.000000  297.000000  297.000000  297.000000  297.000000  297.000000   \n",
       "mean     0.996633  149.599327    0.326599    1.055556    1.602694    0.676768   \n",
       "std      0.994914   22.941562    0.469761    1.166123    0.618187    0.938965   \n",
       "min      0.000000   71.000000    0.000000    0.000000    1.000000    0.000000   \n",
       "25%      0.000000  133.000000    0.000000    0.000000    1.000000    0.000000   \n",
       "50%      1.000000  153.000000    0.000000    0.800000    2.000000    0.000000   \n",
       "75%      2.000000  166.000000    1.000000    1.600000    2.000000    1.000000   \n",
       "max      2.000000  202.000000    1.000000    6.200000    3.000000    3.000000   \n",
       "\n",
       "             thal      target  \n",
       "count  297.000000  297.000000  \n",
       "mean     0.835017    0.461279  \n",
       "std      0.956690    0.499340  \n",
       "min      0.000000    0.000000  \n",
       "25%      0.000000    0.000000  \n",
       "50%      0.000000    0.000000  \n",
       "75%      2.000000    1.000000  \n",
       "max      2.000000    1.000000  "
      ]
     },
     "execution_count": 14,
     "metadata": {},
     "output_type": "execute_result"
    }
   ],
   "source": [
    "data2.describe()"
   ]
  },
  {
   "cell_type": "code",
   "execution_count": 15,
   "id": "30f6035c",
   "metadata": {
    "execution": {
     "iopub.execute_input": "2022-06-17T20:54:12.960747Z",
     "iopub.status.busy": "2022-06-17T20:54:12.960096Z",
     "iopub.status.idle": "2022-06-17T20:54:14.210909Z",
     "shell.execute_reply": "2022-06-17T20:54:14.209153Z"
    },
    "papermill": {
     "duration": 1.274794,
     "end_time": "2022-06-17T20:54:14.214835",
     "exception": false,
     "start_time": "2022-06-17T20:54:12.940041",
     "status": "completed"
    },
    "tags": []
   },
   "outputs": [
    {
     "name": "stdout",
     "output_type": "stream",
     "text": [
      "相关性比较\n"
     ]
    },
    {
     "data": {
      "text/plain": [
       "<AxesSubplot:>"
      ]
     },
     "execution_count": 15,
     "metadata": {},
     "output_type": "execute_result"
    },
    {
     "data": {
      "image/png": "[encoded data removed]",
      "text/plain": [
       "<Figure size 1080x576 with 2 Axes>"
      ]
     },
     "metadata": {
      "needs_background": "light"
     },
     "output_type": "display_data"
    }
   ],
   "source": [
    "print('相关性比较')\n",
    "plt.figure(figsize = (15,8))\n",
    "sns.heatmap(data2.corr(),annot=True,cmap='YlGnBu')"
   ]
  },
  {
   "cell_type": "code",
   "execution_count": 16,
   "id": "7865df7d",
   "metadata": {
    "execution": {
     "iopub.execute_input": "2022-06-17T20:54:14.259527Z",
     "iopub.status.busy": "2022-06-17T20:54:14.258672Z",
     "iopub.status.idle": "2022-06-17T20:54:14.285024Z",
     "shell.execute_reply": "2022-06-17T20:54:14.283850Z"
    },
    "papermill": {
     "duration": 0.051307,
     "end_time": "2022-06-17T20:54:14.287797",
     "exception": false,
     "start_time": "2022-06-17T20:54:14.236490",
     "status": "completed"
    },
    "tags": []
   },
   "outputs": [
    {
     "data": {
      "text/html": [
       "<div>\n",
       "<style scoped>\n",
       "    .dataframe tbody tr th:only-of-type {\n",
       "        vertical-align: middle;\n",
       "    }\n",
       "\n",
       "    .dataframe tbody tr th {\n",
       "        vertical-align: top;\n",
       "    }\n",
       "\n",
       "    .dataframe thead th {\n",
       "        text-align: right;\n",
       "    }\n",
       "</style>\n",
       "<table border=\"1\" class=\"dataframe\">\n",
       "  <thead>\n",
       "    <tr style=\"text-align: right;\">\n",
       "      <th></th>\n",
       "      <th>age</th>\n",
       "      <th>sex</th>\n",
       "      <th>cp</th>\n",
       "      <th>trestbps</th>\n",
       "      <th>chol</th>\n",
       "      <th>fbs</th>\n",
       "      <th>restecg</th>\n",
       "      <th>thalach</th>\n",
       "      <th>exang</th>\n",
       "      <th>oldpeak</th>\n",
       "      <th>slope</th>\n",
       "      <th>ca</th>\n",
       "      <th>thal</th>\n",
       "      <th>target</th>\n",
       "    </tr>\n",
       "  </thead>\n",
       "  <tbody>\n",
       "    <tr>\n",
       "      <th>0</th>\n",
       "      <td>63</td>\n",
       "      <td>1</td>\n",
       "      <td>1</td>\n",
       "      <td>145</td>\n",
       "      <td>233</td>\n",
       "      <td>1</td>\n",
       "      <td>2</td>\n",
       "      <td>150</td>\n",
       "      <td>0</td>\n",
       "      <td>2.3</td>\n",
       "      <td>3</td>\n",
       "      <td>0</td>\n",
       "      <td>1</td>\n",
       "      <td>0</td>\n",
       "    </tr>\n",
       "    <tr>\n",
       "      <th>1</th>\n",
       "      <td>67</td>\n",
       "      <td>1</td>\n",
       "      <td>4</td>\n",
       "      <td>160</td>\n",
       "      <td>286</td>\n",
       "      <td>0</td>\n",
       "      <td>2</td>\n",
       "      <td>108</td>\n",
       "      <td>1</td>\n",
       "      <td>1.5</td>\n",
       "      <td>2</td>\n",
       "      <td>3</td>\n",
       "      <td>0</td>\n",
       "      <td>1</td>\n",
       "    </tr>\n",
       "    <tr>\n",
       "      <th>2</th>\n",
       "      <td>67</td>\n",
       "      <td>1</td>\n",
       "      <td>4</td>\n",
       "      <td>120</td>\n",
       "      <td>229</td>\n",
       "      <td>0</td>\n",
       "      <td>2</td>\n",
       "      <td>129</td>\n",
       "      <td>1</td>\n",
       "      <td>2.6</td>\n",
       "      <td>2</td>\n",
       "      <td>2</td>\n",
       "      <td>2</td>\n",
       "      <td>1</td>\n",
       "    </tr>\n",
       "    <tr>\n",
       "      <th>3</th>\n",
       "      <td>37</td>\n",
       "      <td>1</td>\n",
       "      <td>3</td>\n",
       "      <td>130</td>\n",
       "      <td>250</td>\n",
       "      <td>0</td>\n",
       "      <td>0</td>\n",
       "      <td>187</td>\n",
       "      <td>0</td>\n",
       "      <td>3.5</td>\n",
       "      <td>3</td>\n",
       "      <td>0</td>\n",
       "      <td>0</td>\n",
       "      <td>0</td>\n",
       "    </tr>\n",
       "    <tr>\n",
       "      <th>4</th>\n",
       "      <td>41</td>\n",
       "      <td>0</td>\n",
       "      <td>2</td>\n",
       "      <td>130</td>\n",
       "      <td>204</td>\n",
       "      <td>0</td>\n",
       "      <td>2</td>\n",
       "      <td>172</td>\n",
       "      <td>0</td>\n",
       "      <td>1.4</td>\n",
       "      <td>1</td>\n",
       "      <td>0</td>\n",
       "      <td>0</td>\n",
       "      <td>0</td>\n",
       "    </tr>\n",
       "    <tr>\n",
       "      <th>...</th>\n",
       "      <td>...</td>\n",
       "      <td>...</td>\n",
       "      <td>...</td>\n",
       "      <td>...</td>\n",
       "      <td>...</td>\n",
       "      <td>...</td>\n",
       "      <td>...</td>\n",
       "      <td>...</td>\n",
       "      <td>...</td>\n",
       "      <td>...</td>\n",
       "      <td>...</td>\n",
       "      <td>...</td>\n",
       "      <td>...</td>\n",
       "      <td>...</td>\n",
       "    </tr>\n",
       "    <tr>\n",
       "      <th>292</th>\n",
       "      <td>57</td>\n",
       "      <td>0</td>\n",
       "      <td>4</td>\n",
       "      <td>140</td>\n",
       "      <td>241</td>\n",
       "      <td>0</td>\n",
       "      <td>0</td>\n",
       "      <td>123</td>\n",
       "      <td>1</td>\n",
       "      <td>0.2</td>\n",
       "      <td>2</td>\n",
       "      <td>0</td>\n",
       "      <td>2</td>\n",
       "      <td>1</td>\n",
       "    </tr>\n",
       "    <tr>\n",
       "      <th>293</th>\n",
       "      <td>45</td>\n",
       "      <td>1</td>\n",
       "      <td>1</td>\n",
       "      <td>110</td>\n",
       "      <td>264</td>\n",
       "      <td>0</td>\n",
       "      <td>0</td>\n",
       "      <td>132</td>\n",
       "      <td>0</td>\n",
       "      <td>1.2</td>\n",
       "      <td>2</td>\n",
       "      <td>0</td>\n",
       "      <td>2</td>\n",
       "      <td>1</td>\n",
       "    </tr>\n",
       "    <tr>\n",
       "      <th>294</th>\n",
       "      <td>68</td>\n",
       "      <td>1</td>\n",
       "      <td>4</td>\n",
       "      <td>144</td>\n",
       "      <td>193</td>\n",
       "      <td>1</td>\n",
       "      <td>0</td>\n",
       "      <td>141</td>\n",
       "      <td>0</td>\n",
       "      <td>3.4</td>\n",
       "      <td>2</td>\n",
       "      <td>2</td>\n",
       "      <td>2</td>\n",
       "      <td>1</td>\n",
       "    </tr>\n",
       "    <tr>\n",
       "      <th>295</th>\n",
       "      <td>57</td>\n",
       "      <td>1</td>\n",
       "      <td>4</td>\n",
       "      <td>130</td>\n",
       "      <td>131</td>\n",
       "      <td>0</td>\n",
       "      <td>0</td>\n",
       "      <td>115</td>\n",
       "      <td>1</td>\n",
       "      <td>1.2</td>\n",
       "      <td>2</td>\n",
       "      <td>1</td>\n",
       "      <td>2</td>\n",
       "      <td>1</td>\n",
       "    </tr>\n",
       "    <tr>\n",
       "      <th>296</th>\n",
       "      <td>57</td>\n",
       "      <td>0</td>\n",
       "      <td>2</td>\n",
       "      <td>130</td>\n",
       "      <td>236</td>\n",
       "      <td>0</td>\n",
       "      <td>2</td>\n",
       "      <td>174</td>\n",
       "      <td>0</td>\n",
       "      <td>0.0</td>\n",
       "      <td>2</td>\n",
       "      <td>1</td>\n",
       "      <td>0</td>\n",
       "      <td>1</td>\n",
       "    </tr>\n",
       "  </tbody>\n",
       "</table>\n",
       "<p>297 rows × 14 columns</p>\n",
       "</div>"
      ],
      "text/plain": [
       "     age  sex  cp  trestbps  chol  fbs  restecg  thalach  exang  oldpeak  \\\n",
       "0     63    1   1       145   233    1        2      150      0      2.3   \n",
       "1     67    1   4       160   286    0        2      108      1      1.5   \n",
       "2     67    1   4       120   229    0        2      129      1      2.6   \n",
       "3     37    1   3       130   250    0        0      187      0      3.5   \n",
       "4     41    0   2       130   204    0        2      172      0      1.4   \n",
       "..   ...  ...  ..       ...   ...  ...      ...      ...    ...      ...   \n",
       "292   57    0   4       140   241    0        0      123      1      0.2   \n",
       "293   45    1   1       110   264    0        0      132      0      1.2   \n",
       "294   68    1   4       144   193    1        0      141      0      3.4   \n",
       "295   57    1   4       130   131    0        0      115      1      1.2   \n",
       "296   57    0   2       130   236    0        2      174      0      0.0   \n",
       "\n",
       "     slope  ca  thal  target  \n",
       "0        3   0     1       0  \n",
       "1        2   3     0       1  \n",
       "2        2   2     2       1  \n",
       "3        3   0     0       0  \n",
       "4        1   0     0       0  \n",
       "..     ...  ..   ...     ...  \n",
       "292      2   0     2       1  \n",
       "293      2   0     2       1  \n",
       "294      2   2     2       1  \n",
       "295      2   1     2       1  \n",
       "296      2   1     0       1  \n",
       "\n",
       "[297 rows x 14 columns]"
      ]
     },
     "execution_count": 16,
     "metadata": {},
     "output_type": "execute_result"
    }
   ],
   "source": [
    "data2"
   ]
  },
  {
   "cell_type": "code",
   "execution_count": 17,
   "id": "5af3a588",
   "metadata": {
    "execution": {
     "iopub.execute_input": "2022-06-17T20:54:14.337827Z",
     "iopub.status.busy": "2022-06-17T20:54:14.337021Z",
     "iopub.status.idle": "2022-06-17T20:54:14.876227Z",
     "shell.execute_reply": "2022-06-17T20:54:14.874841Z"
    },
    "papermill": {
     "duration": 0.567645,
     "end_time": "2022-06-17T20:54:14.878915",
     "exception": false,
     "start_time": "2022-06-17T20:54:14.311270",
     "status": "completed"
    },
    "tags": []
   },
   "outputs": [
    {
     "data": {
      "text/plain": [
       "<AxesSubplot:xlabel='age', ylabel='count'>"
      ]
     },
     "execution_count": 17,
     "metadata": {},
     "output_type": "execute_result"
    },
    {
     "data": {
      "image/png": "[encoded data removed]",
      "text/plain": [
       "<Figure size 1080x432 with 1 Axes>"
      ]
     },
     "metadata": {
      "needs_background": "light"
     },
     "output_type": "display_data"
    }
   ],
   "source": [
    "plt.figure(figsize=(15,6))\n",
    "sns.countplot(x=data1['age'])"
   ]
  },
  {
   "cell_type": "code",
   "execution_count": 18,
   "id": "389500c6",
   "metadata": {
    "execution": {
     "iopub.execute_input": "2022-06-17T20:54:14.933255Z",
     "iopub.status.busy": "2022-06-17T20:54:14.932637Z",
     "iopub.status.idle": "2022-06-17T20:54:15.100471Z",
     "shell.execute_reply": "2022-06-17T20:54:15.099060Z"
    },
    "papermill": {
     "duration": 0.198569,
     "end_time": "2022-06-17T20:54:15.104020",
     "exception": false,
     "start_time": "2022-06-17T20:54:14.905451",
     "status": "completed"
    },
    "tags": []
   },
   "outputs": [
    {
     "data": {
      "text/plain": [
       "<AxesSubplot:xlabel='target', ylabel='count'>"
      ]
     },
     "execution_count": 18,
     "metadata": {},
     "output_type": "execute_result"
    },
    {
     "data": {
      "image/png": "[encoded data removed]",
      "text/plain": [
       "<Figure size 432x288 with 1 Axes>"
      ]
     },
     "metadata": {
      "needs_background": "light"
     },
     "output_type": "display_data"
    }
   ],
   "source": [
    "sns.countplot(x='target',data=data2)"
   ]
  },
  {
   "cell_type": "code",
   "execution_count": 19,
   "id": "cc854b91",
   "metadata": {
    "execution": {
     "iopub.execute_input": "2022-06-17T20:54:15.159344Z",
     "iopub.status.busy": "2022-06-17T20:54:15.158815Z",
     "iopub.status.idle": "2022-06-17T20:54:15.306236Z",
     "shell.execute_reply": "2022-06-17T20:54:15.305174Z"
    },
    "papermill": {
     "duration": 0.17781,
     "end_time": "2022-06-17T20:54:15.308846",
     "exception": false,
     "start_time": "2022-06-17T20:54:15.131036",
     "status": "completed"
    },
    "tags": []
   },
   "outputs": [
    {
     "data": {
      "text/plain": [
       "<AxesSubplot:xlabel='sex', ylabel='count'>"
      ]
     },
     "execution_count": 19,
     "metadata": {},
     "output_type": "execute_result"
    },
    {
     "data": {
      "image/png": "[encoded data removed]",
      "text/plain": [
       "<Figure size 432x288 with 1 Axes>"
      ]
     },
     "metadata": {
      "needs_background": "light"
     },
     "output_type": "display_data"
    }
   ],
   "source": [
    "sns.countplot(x='sex', data=data2)"
   ]
  },
  {
   "cell_type": "code",
   "execution_count": 20,
   "id": "8031917d",
   "metadata": {
    "execution": {
     "iopub.execute_input": "2022-06-17T20:54:15.361866Z",
     "iopub.status.busy": "2022-06-17T20:54:15.361309Z",
     "iopub.status.idle": "2022-06-17T20:54:15.613706Z",
     "shell.execute_reply": "2022-06-17T20:54:15.611536Z"
    },
    "papermill": {
     "duration": 0.282214,
     "end_time": "2022-06-17T20:54:15.617023",
     "exception": false,
     "start_time": "2022-06-17T20:54:15.334809",
     "status": "completed"
    },
    "tags": []
   },
   "outputs": [
    {
     "data": {
      "text/plain": [
       "<AxesSubplot:xlabel='age', ylabel='Density'>"
      ]
     },
     "execution_count": 20,
     "metadata": {},
     "output_type": "execute_result"
    },
    {
     "data": {
      "image/png": "[encoded data removed]",
      "text/plain": [
       "<Figure size 432x288 with 1 Axes>"
      ]
     },
     "metadata": {
      "needs_background": "light"
     },
     "output_type": "display_data"
    }
   ],
   "source": [
    "sns.distplot(data1['age'],color ='red',bins=20)"
   ]
  },
  {
   "cell_type": "code",
   "execution_count": 21,
   "id": "a4763d2a",
   "metadata": {
    "execution": {
     "iopub.execute_input": "2022-06-17T20:54:15.669202Z",
     "iopub.status.busy": "2022-06-17T20:54:15.668364Z",
     "iopub.status.idle": "2022-06-17T20:54:15.962280Z",
     "shell.execute_reply": "2022-06-17T20:54:15.960953Z"
    },
    "papermill": {
     "duration": 0.322911,
     "end_time": "2022-06-17T20:54:15.965204",
     "exception": false,
     "start_time": "2022-06-17T20:54:15.642293",
     "status": "completed"
    },
    "tags": []
   },
   "outputs": [
    {
     "data": {
      "text/plain": [
       "<AxesSubplot:xlabel='thalach', ylabel='Density'>"
      ]
     },
     "execution_count": 21,
     "metadata": {},
     "output_type": "execute_result"
    },
    {
     "data": {
      "image/png": "[encoded data removed]",
      "text/plain": [
       "<Figure size 432x288 with 1 Axes>"
      ]
     },
     "metadata": {
      "needs_background": "light"
     },
     "output_type": "display_data"
    }
   ],
   "source": [
    "sns.distplot(data1['thalach'],color ='red',bins=20)"
   ]
  },
  {
   "cell_type": "code",
   "execution_count": 22,
   "id": "d7749310",
   "metadata": {
    "execution": {
     "iopub.execute_input": "2022-06-17T20:54:16.015383Z",
     "iopub.status.busy": "2022-06-17T20:54:16.014880Z",
     "iopub.status.idle": "2022-06-17T20:54:16.275732Z",
     "shell.execute_reply": "2022-06-17T20:54:16.273654Z"
    },
    "papermill": {
     "duration": 0.289966,
     "end_time": "2022-06-17T20:54:16.279015",
     "exception": false,
     "start_time": "2022-06-17T20:54:15.989049",
     "status": "completed"
    },
    "tags": []
   },
   "outputs": [
    {
     "data": {
      "text/plain": [
       "<AxesSubplot:xlabel='chol', ylabel='Density'>"
      ]
     },
     "execution_count": 22,
     "metadata": {},
     "output_type": "execute_result"
    },
    {
     "data": {
      "image/png": "[encoded data removed]",
      "text/plain": [
       "<Figure size 432x288 with 1 Axes>"
      ]
     },
     "metadata": {
      "needs_background": "light"
     },
     "output_type": "display_data"
    }
   ],
   "source": [
    "sns.distplot(data1['chol'],color ='red',bins=20)"
   ]
  },
  {
   "cell_type": "markdown",
   "id": "fa603834",
   "metadata": {
    "papermill": {
     "duration": 0.023818,
     "end_time": "2022-06-17T20:54:16.378920",
     "exception": false,
     "start_time": "2022-06-17T20:54:16.355102",
     "status": "completed"
    },
    "tags": []
   },
   "source": [
    "## 删除离群点"
   ]
  },
  {
   "cell_type": "code",
   "execution_count": 23,
   "id": "97076ead",
   "metadata": {
    "execution": {
     "iopub.execute_input": "2022-06-17T20:54:16.435844Z",
     "iopub.status.busy": "2022-06-17T20:54:16.434453Z",
     "iopub.status.idle": "2022-06-17T20:54:17.094960Z",
     "shell.execute_reply": "2022-06-17T20:54:17.093787Z"
    },
    "papermill": {
     "duration": 0.691308,
     "end_time": "2022-06-17T20:54:17.097457",
     "exception": false,
     "start_time": "2022-06-17T20:54:16.406149",
     "status": "completed"
    },
    "tags": []
   },
   "outputs": [
    {
     "data": {
      "text/plain": [
       "<AxesSubplot:>"
      ]
     },
     "execution_count": 23,
     "metadata": {},
     "output_type": "execute_result"
    },
    {
     "data": {
      "image/png": "[encoded data removed]",
      "text/plain": [
       "<Figure size 1080x360 with 1 Axes>"
      ]
     },
     "metadata": {
      "needs_background": "light"
     },
     "output_type": "display_data"
    }
   ],
   "source": [
    "plt.figure(figsize=(15,5))\n",
    "sns.boxplot(data=data2,orient='h')"
   ]
  },
  {
   "cell_type": "code",
   "execution_count": 24,
   "id": "457f7dfd",
   "metadata": {
    "execution": {
     "iopub.execute_input": "2022-06-17T20:54:17.151971Z",
     "iopub.status.busy": "2022-06-17T20:54:17.151427Z",
     "iopub.status.idle": "2022-06-17T20:54:17.229554Z",
     "shell.execute_reply": "2022-06-17T20:54:17.228229Z"
    },
    "papermill": {
     "duration": 0.10954,
     "end_time": "2022-06-17T20:54:17.232349",
     "exception": false,
     "start_time": "2022-06-17T20:54:17.122809",
     "status": "completed"
    },
    "tags": []
   },
   "outputs": [
    {
     "data": {
      "text/html": [
       "<div>\n",
       "<style scoped>\n",
       "    .dataframe tbody tr th:only-of-type {\n",
       "        vertical-align: middle;\n",
       "    }\n",
       "\n",
       "    .dataframe tbody tr th {\n",
       "        vertical-align: top;\n",
       "    }\n",
       "\n",
       "    .dataframe thead th {\n",
       "        text-align: right;\n",
       "    }\n",
       "</style>\n",
       "<table border=\"1\" class=\"dataframe\">\n",
       "  <thead>\n",
       "    <tr style=\"text-align: right;\">\n",
       "      <th></th>\n",
       "      <th>age</th>\n",
       "      <th>sex</th>\n",
       "      <th>cp</th>\n",
       "      <th>trestbps</th>\n",
       "      <th>chol</th>\n",
       "      <th>fbs</th>\n",
       "      <th>restecg</th>\n",
       "      <th>thalach</th>\n",
       "      <th>exang</th>\n",
       "      <th>oldpeak</th>\n",
       "      <th>slope</th>\n",
       "      <th>ca</th>\n",
       "      <th>thal</th>\n",
       "      <th>target</th>\n",
       "    </tr>\n",
       "  </thead>\n",
       "  <tbody>\n",
       "    <tr>\n",
       "      <th>count</th>\n",
       "      <td>297.000000</td>\n",
       "      <td>297.000000</td>\n",
       "      <td>297.000000</td>\n",
       "      <td>297.000000</td>\n",
       "      <td>297.000000</td>\n",
       "      <td>297.000000</td>\n",
       "      <td>297.000000</td>\n",
       "      <td>297.000000</td>\n",
       "      <td>297.000000</td>\n",
       "      <td>297.000000</td>\n",
       "      <td>297.000000</td>\n",
       "      <td>297.000000</td>\n",
       "      <td>297.000000</td>\n",
       "      <td>297.000000</td>\n",
       "    </tr>\n",
       "    <tr>\n",
       "      <th>mean</th>\n",
       "      <td>54.542088</td>\n",
       "      <td>0.676768</td>\n",
       "      <td>3.158249</td>\n",
       "      <td>131.693603</td>\n",
       "      <td>247.350168</td>\n",
       "      <td>0.144781</td>\n",
       "      <td>0.996633</td>\n",
       "      <td>149.599327</td>\n",
       "      <td>0.326599</td>\n",
       "      <td>1.055556</td>\n",
       "      <td>1.602694</td>\n",
       "      <td>0.676768</td>\n",
       "      <td>0.835017</td>\n",
       "      <td>0.461279</td>\n",
       "    </tr>\n",
       "    <tr>\n",
       "      <th>std</th>\n",
       "      <td>9.049736</td>\n",
       "      <td>0.468500</td>\n",
       "      <td>0.964859</td>\n",
       "      <td>17.762806</td>\n",
       "      <td>51.997583</td>\n",
       "      <td>0.352474</td>\n",
       "      <td>0.994914</td>\n",
       "      <td>22.941562</td>\n",
       "      <td>0.469761</td>\n",
       "      <td>1.166123</td>\n",
       "      <td>0.618187</td>\n",
       "      <td>0.938965</td>\n",
       "      <td>0.956690</td>\n",
       "      <td>0.499340</td>\n",
       "    </tr>\n",
       "    <tr>\n",
       "      <th>min</th>\n",
       "      <td>29.000000</td>\n",
       "      <td>0.000000</td>\n",
       "      <td>1.000000</td>\n",
       "      <td>94.000000</td>\n",
       "      <td>126.000000</td>\n",
       "      <td>0.000000</td>\n",
       "      <td>0.000000</td>\n",
       "      <td>71.000000</td>\n",
       "      <td>0.000000</td>\n",
       "      <td>0.000000</td>\n",
       "      <td>1.000000</td>\n",
       "      <td>0.000000</td>\n",
       "      <td>0.000000</td>\n",
       "      <td>0.000000</td>\n",
       "    </tr>\n",
       "    <tr>\n",
       "      <th>25%</th>\n",
       "      <td>48.000000</td>\n",
       "      <td>0.000000</td>\n",
       "      <td>3.000000</td>\n",
       "      <td>120.000000</td>\n",
       "      <td>211.000000</td>\n",
       "      <td>0.000000</td>\n",
       "      <td>0.000000</td>\n",
       "      <td>133.000000</td>\n",
       "      <td>0.000000</td>\n",
       "      <td>0.000000</td>\n",
       "      <td>1.000000</td>\n",
       "      <td>0.000000</td>\n",
       "      <td>0.000000</td>\n",
       "      <td>0.000000</td>\n",
       "    </tr>\n",
       "    <tr>\n",
       "      <th>50%</th>\n",
       "      <td>56.000000</td>\n",
       "      <td>1.000000</td>\n",
       "      <td>3.000000</td>\n",
       "      <td>130.000000</td>\n",
       "      <td>243.000000</td>\n",
       "      <td>0.000000</td>\n",
       "      <td>1.000000</td>\n",
       "      <td>153.000000</td>\n",
       "      <td>0.000000</td>\n",
       "      <td>0.800000</td>\n",
       "      <td>2.000000</td>\n",
       "      <td>0.000000</td>\n",
       "      <td>0.000000</td>\n",
       "      <td>0.000000</td>\n",
       "    </tr>\n",
       "    <tr>\n",
       "      <th>75%</th>\n",
       "      <td>61.000000</td>\n",
       "      <td>1.000000</td>\n",
       "      <td>4.000000</td>\n",
       "      <td>140.000000</td>\n",
       "      <td>276.000000</td>\n",
       "      <td>0.000000</td>\n",
       "      <td>2.000000</td>\n",
       "      <td>166.000000</td>\n",
       "      <td>1.000000</td>\n",
       "      <td>1.600000</td>\n",
       "      <td>2.000000</td>\n",
       "      <td>1.000000</td>\n",
       "      <td>2.000000</td>\n",
       "      <td>1.000000</td>\n",
       "    </tr>\n",
       "    <tr>\n",
       "      <th>max</th>\n",
       "      <td>77.000000</td>\n",
       "      <td>1.000000</td>\n",
       "      <td>4.000000</td>\n",
       "      <td>200.000000</td>\n",
       "      <td>564.000000</td>\n",
       "      <td>1.000000</td>\n",
       "      <td>2.000000</td>\n",
       "      <td>202.000000</td>\n",
       "      <td>1.000000</td>\n",
       "      <td>6.200000</td>\n",
       "      <td>3.000000</td>\n",
       "      <td>3.000000</td>\n",
       "      <td>2.000000</td>\n",
       "      <td>1.000000</td>\n",
       "    </tr>\n",
       "  </tbody>\n",
       "</table>\n",
       "</div>"
      ],
      "text/plain": [
       "              age         sex          cp    trestbps        chol         fbs  \\\n",
       "count  297.000000  297.000000  297.000000  297.000000  297.000000  297.000000   \n",
       "mean    54.542088    0.676768    3.158249  131.693603  247.350168    0.144781   \n",
       "std      9.049736    0.468500    0.964859   17.762806   51.997583    0.352474   \n",
       "min     29.000000    0.000000    1.000000   94.000000  126.000000    0.000000   \n",
       "25%     48.000000    0.000000    3.000000  120.000000  211.000000    0.000000   \n",
       "50%     56.000000    1.000000    3.000000  130.000000  243.000000    0.000000   \n",
       "75%     61.000000    1.000000    4.000000  140.000000  276.000000    0.000000   \n",
       "max     77.000000    1.000000    4.000000  200.000000  564.000000    1.000000   \n",
       "\n",
       "          restecg     thalach       exang     oldpeak       slope          ca  \\\n",
       "count  297.000000  297.000000  297.000000  297.000000  297.000000  297.000000   \n",
       "mean     0.996633  149.599327    0.326599    1.055556    1.602694    0.676768   \n",
       "std      0.994914   22.941562    0.469761    1.166123    0.618187    0.938965   \n",
       "min      0.000000   71.000000    0.000000    0.000000    1.000000    0.000000   \n",
       "25%      0.000000  133.000000    0.000000    0.000000    1.000000    0.000000   \n",
       "50%      1.000000  153.000000    0.000000    0.800000    2.000000    0.000000   \n",
       "75%      2.000000  166.000000    1.000000    1.600000    2.000000    1.000000   \n",
       "max      2.000000  202.000000    1.000000    6.200000    3.000000    3.000000   \n",
       "\n",
       "             thal      target  \n",
       "count  297.000000  297.000000  \n",
       "mean     0.835017    0.461279  \n",
       "std      0.956690    0.499340  \n",
       "min      0.000000    0.000000  \n",
       "25%      0.000000    0.000000  \n",
       "50%      0.000000    0.000000  \n",
       "75%      2.000000    1.000000  \n",
       "max      2.000000    1.000000  "
      ]
     },
     "execution_count": 24,
     "metadata": {},
     "output_type": "execute_result"
    }
   ],
   "source": [
    "data2.describe()"
   ]
  },
  {
   "cell_type": "code",
   "execution_count": 25,
   "id": "b9e80a76",
   "metadata": {
    "execution": {
     "iopub.execute_input": "2022-06-17T20:54:17.289526Z",
     "iopub.status.busy": "2022-06-17T20:54:17.289042Z",
     "iopub.status.idle": "2022-06-17T20:54:17.426479Z",
     "shell.execute_reply": "2022-06-17T20:54:17.425245Z"
    },
    "papermill": {
     "duration": 0.170513,
     "end_time": "2022-06-17T20:54:17.430636",
     "exception": false,
     "start_time": "2022-06-17T20:54:17.260123",
     "status": "completed"
    },
    "tags": []
   },
   "outputs": [
    {
     "name": "stdout",
     "output_type": "stream",
     "text": [
      "outliers on right side in chol is \n",
      " 48     417\n",
      "120    407\n",
      "151    564\n",
      "171    394\n",
      "179    409\n",
      "Name: chol, dtype: int64 \n",
      "\n"
     ]
    },
    {
     "data": {
      "text/plain": [
       "<AxesSubplot:xlabel='chol'>"
      ]
     },
     "execution_count": 25,
     "metadata": {},
     "output_type": "execute_result"
    },
    {
     "data": {
      "image/png": "[encoded data removed]",
      "text/plain": [
       "<Figure size 432x288 with 1 Axes>"
      ]
     },
     "metadata": {
      "needs_background": "light"
     },
     "output_type": "display_data"
    }
   ],
   "source": [
    "q1 = data2.chol.quantile(0.25)\n",
    "q3 = data2.chol.quantile(0.75)\n",
    "IQR = q3 - q1\n",
    "lower_limit = q1 - 1.5 * IQR\n",
    "upper_limit = q3 + 1.5 * IQR\n",
    "k1=data2[data2[\"chol\"]>upper_limit]\n",
    "print(\"outliers on right side in chol is \\n\",k1[\"chol\"],\"\\n\")\n",
    "data2=data2[data2[\"chol\"]<upper_limit]\n",
    "sns.boxplot(data2[\"chol\"])"
   ]
  },
  {
   "cell_type": "code",
   "execution_count": 26,
   "id": "1bde741c",
   "metadata": {
    "execution": {
     "iopub.execute_input": "2022-06-17T20:54:17.490984Z",
     "iopub.status.busy": "2022-06-17T20:54:17.489396Z",
     "iopub.status.idle": "2022-06-17T20:54:17.551668Z",
     "shell.execute_reply": "2022-06-17T20:54:17.550625Z"
    },
    "papermill": {
     "duration": 0.095592,
     "end_time": "2022-06-17T20:54:17.554522",
     "exception": false,
     "start_time": "2022-06-17T20:54:17.458930",
     "status": "completed"
    },
    "tags": []
   },
   "outputs": [
    {
     "data": {
      "text/html": [
       "<div>\n",
       "<style scoped>\n",
       "    .dataframe tbody tr th:only-of-type {\n",
       "        vertical-align: middle;\n",
       "    }\n",
       "\n",
       "    .dataframe tbody tr th {\n",
       "        vertical-align: top;\n",
       "    }\n",
       "\n",
       "    .dataframe thead th {\n",
       "        text-align: right;\n",
       "    }\n",
       "</style>\n",
       "<table border=\"1\" class=\"dataframe\">\n",
       "  <thead>\n",
       "    <tr style=\"text-align: right;\">\n",
       "      <th></th>\n",
       "      <th>age</th>\n",
       "      <th>sex</th>\n",
       "      <th>cp</th>\n",
       "      <th>trestbps</th>\n",
       "      <th>chol</th>\n",
       "      <th>fbs</th>\n",
       "      <th>restecg</th>\n",
       "      <th>thalach</th>\n",
       "      <th>exang</th>\n",
       "      <th>oldpeak</th>\n",
       "      <th>slope</th>\n",
       "      <th>ca</th>\n",
       "      <th>thal</th>\n",
       "      <th>target</th>\n",
       "    </tr>\n",
       "  </thead>\n",
       "  <tbody>\n",
       "    <tr>\n",
       "      <th>count</th>\n",
       "      <td>292.000000</td>\n",
       "      <td>292.000000</td>\n",
       "      <td>292.000000</td>\n",
       "      <td>292.000000</td>\n",
       "      <td>292.000000</td>\n",
       "      <td>292.000000</td>\n",
       "      <td>292.000000</td>\n",
       "      <td>292.000000</td>\n",
       "      <td>292.000000</td>\n",
       "      <td>292.000000</td>\n",
       "      <td>292.000000</td>\n",
       "      <td>292.000000</td>\n",
       "      <td>292.000000</td>\n",
       "      <td>292.000000</td>\n",
       "    </tr>\n",
       "    <tr>\n",
       "      <th>mean</th>\n",
       "      <td>54.404110</td>\n",
       "      <td>0.688356</td>\n",
       "      <td>3.150685</td>\n",
       "      <td>131.623288</td>\n",
       "      <td>244.082192</td>\n",
       "      <td>0.143836</td>\n",
       "      <td>0.979452</td>\n",
       "      <td>149.496575</td>\n",
       "      <td>0.328767</td>\n",
       "      <td>1.041096</td>\n",
       "      <td>1.599315</td>\n",
       "      <td>0.667808</td>\n",
       "      <td>0.828767</td>\n",
       "      <td>0.462329</td>\n",
       "    </tr>\n",
       "    <tr>\n",
       "      <th>std</th>\n",
       "      <td>9.051649</td>\n",
       "      <td>0.463960</td>\n",
       "      <td>0.969234</td>\n",
       "      <td>17.841856</td>\n",
       "      <td>45.218752</td>\n",
       "      <td>0.351525</td>\n",
       "      <td>0.994619</td>\n",
       "      <td>23.119962</td>\n",
       "      <td>0.470572</td>\n",
       "      <td>1.161654</td>\n",
       "      <td>0.620719</td>\n",
       "      <td>0.932014</td>\n",
       "      <td>0.955070</td>\n",
       "      <td>0.499435</td>\n",
       "    </tr>\n",
       "    <tr>\n",
       "      <th>min</th>\n",
       "      <td>29.000000</td>\n",
       "      <td>0.000000</td>\n",
       "      <td>1.000000</td>\n",
       "      <td>94.000000</td>\n",
       "      <td>126.000000</td>\n",
       "      <td>0.000000</td>\n",
       "      <td>0.000000</td>\n",
       "      <td>71.000000</td>\n",
       "      <td>0.000000</td>\n",
       "      <td>0.000000</td>\n",
       "      <td>1.000000</td>\n",
       "      <td>0.000000</td>\n",
       "      <td>0.000000</td>\n",
       "      <td>0.000000</td>\n",
       "    </tr>\n",
       "    <tr>\n",
       "      <th>25%</th>\n",
       "      <td>47.750000</td>\n",
       "      <td>0.000000</td>\n",
       "      <td>3.000000</td>\n",
       "      <td>120.000000</td>\n",
       "      <td>211.000000</td>\n",
       "      <td>0.000000</td>\n",
       "      <td>0.000000</td>\n",
       "      <td>132.750000</td>\n",
       "      <td>0.000000</td>\n",
       "      <td>0.000000</td>\n",
       "      <td>1.000000</td>\n",
       "      <td>0.000000</td>\n",
       "      <td>0.000000</td>\n",
       "      <td>0.000000</td>\n",
       "    </tr>\n",
       "    <tr>\n",
       "      <th>50%</th>\n",
       "      <td>55.500000</td>\n",
       "      <td>1.000000</td>\n",
       "      <td>3.000000</td>\n",
       "      <td>130.000000</td>\n",
       "      <td>240.500000</td>\n",
       "      <td>0.000000</td>\n",
       "      <td>0.000000</td>\n",
       "      <td>152.000000</td>\n",
       "      <td>0.000000</td>\n",
       "      <td>0.800000</td>\n",
       "      <td>2.000000</td>\n",
       "      <td>0.000000</td>\n",
       "      <td>0.000000</td>\n",
       "      <td>0.000000</td>\n",
       "    </tr>\n",
       "    <tr>\n",
       "      <th>75%</th>\n",
       "      <td>61.000000</td>\n",
       "      <td>1.000000</td>\n",
       "      <td>4.000000</td>\n",
       "      <td>140.000000</td>\n",
       "      <td>274.000000</td>\n",
       "      <td>0.000000</td>\n",
       "      <td>2.000000</td>\n",
       "      <td>166.000000</td>\n",
       "      <td>1.000000</td>\n",
       "      <td>1.600000</td>\n",
       "      <td>2.000000</td>\n",
       "      <td>1.000000</td>\n",
       "      <td>2.000000</td>\n",
       "      <td>1.000000</td>\n",
       "    </tr>\n",
       "    <tr>\n",
       "      <th>max</th>\n",
       "      <td>77.000000</td>\n",
       "      <td>1.000000</td>\n",
       "      <td>4.000000</td>\n",
       "      <td>200.000000</td>\n",
       "      <td>360.000000</td>\n",
       "      <td>1.000000</td>\n",
       "      <td>2.000000</td>\n",
       "      <td>202.000000</td>\n",
       "      <td>1.000000</td>\n",
       "      <td>6.200000</td>\n",
       "      <td>3.000000</td>\n",
       "      <td>3.000000</td>\n",
       "      <td>2.000000</td>\n",
       "      <td>1.000000</td>\n",
       "    </tr>\n",
       "  </tbody>\n",
       "</table>\n",
       "</div>"
      ],
      "text/plain": [
       "              age         sex          cp    trestbps        chol         fbs  \\\n",
       "count  292.000000  292.000000  292.000000  292.000000  292.000000  292.000000   \n",
       "mean    54.404110    0.688356    3.150685  131.623288  244.082192    0.143836   \n",
       "std      9.051649    0.463960    0.969234   17.841856   45.218752    0.351525   \n",
       "min     29.000000    0.000000    1.000000   94.000000  126.000000    0.000000   \n",
       "25%     47.750000    0.000000    3.000000  120.000000  211.000000    0.000000   \n",
       "50%     55.500000    1.000000    3.000000  130.000000  240.500000    0.000000   \n",
       "75%     61.000000    1.000000    4.000000  140.000000  274.000000    0.000000   \n",
       "max     77.000000    1.000000    4.000000  200.000000  360.000000    1.000000   \n",
       "\n",
       "          restecg     thalach       exang     oldpeak       slope          ca  \\\n",
       "count  292.000000  292.000000  292.000000  292.000000  292.000000  292.000000   \n",
       "mean     0.979452  149.496575    0.328767    1.041096    1.599315    0.667808   \n",
       "std      0.994619   23.119962    0.470572    1.161654    0.620719    0.932014   \n",
       "min      0.000000   71.000000    0.000000    0.000000    1.000000    0.000000   \n",
       "25%      0.000000  132.750000    0.000000    0.000000    1.000000    0.000000   \n",
       "50%      0.000000  152.000000    0.000000    0.800000    2.000000    0.000000   \n",
       "75%      2.000000  166.000000    1.000000    1.600000    2.000000    1.000000   \n",
       "max      2.000000  202.000000    1.000000    6.200000    3.000000    3.000000   \n",
       "\n",
       "             thal      target  \n",
       "count  292.000000  292.000000  \n",
       "mean     0.828767    0.462329  \n",
       "std      0.955070    0.499435  \n",
       "min      0.000000    0.000000  \n",
       "25%      0.000000    0.000000  \n",
       "50%      0.000000    0.000000  \n",
       "75%      2.000000    1.000000  \n",
       "max      2.000000    1.000000  "
      ]
     },
     "execution_count": 26,
     "metadata": {},
     "output_type": "execute_result"
    }
   ],
   "source": [
    "data2.describe()"
   ]
  },
  {
   "cell_type": "code",
   "execution_count": 27,
   "id": "dc9d8343",
   "metadata": {
    "execution": {
     "iopub.execute_input": "2022-06-17T20:54:17.606585Z",
     "iopub.status.busy": "2022-06-17T20:54:17.605435Z",
     "iopub.status.idle": "2022-06-17T20:54:18.046417Z",
     "shell.execute_reply": "2022-06-17T20:54:18.045223Z"
    },
    "papermill": {
     "duration": 0.470482,
     "end_time": "2022-06-17T20:54:18.049628",
     "exception": false,
     "start_time": "2022-06-17T20:54:17.579146",
     "status": "completed"
    },
    "tags": []
   },
   "outputs": [
    {
     "data": {
      "text/plain": [
       "<AxesSubplot:>"
      ]
     },
     "execution_count": 27,
     "metadata": {},
     "output_type": "execute_result"
    },
    {
     "data": {
      "image/png": "[encoded data removed]",
      "text/plain": [
       "<Figure size 1080x360 with 1 Axes>"
      ]
     },
     "metadata": {
      "needs_background": "light"
     },
     "output_type": "display_data"
    }
   ],
   "source": [
    "plt.figure(figsize=(15,5))\n",
    "sns.boxplot(data=data2,orient='h')"
   ]
  },
  {
   "cell_type": "code",
   "execution_count": 28,
   "id": "caed5902",
   "metadata": {
    "execution": {
     "iopub.execute_input": "2022-06-17T20:54:18.114176Z",
     "iopub.status.busy": "2022-06-17T20:54:18.113661Z",
     "iopub.status.idle": "2022-06-17T20:54:18.304846Z",
     "shell.execute_reply": "2022-06-17T20:54:18.303654Z"
    },
    "papermill": {
     "duration": 0.229236,
     "end_time": "2022-06-17T20:54:18.307945",
     "exception": false,
     "start_time": "2022-06-17T20:54:18.078709",
     "status": "completed"
    },
    "tags": []
   },
   "outputs": [
    {
     "data": {
      "text/plain": [
       "<AxesSubplot:xlabel='trestbps'>"
      ]
     },
     "execution_count": 28,
     "metadata": {},
     "output_type": "execute_result"
    },
    {
     "data": {
      "image/png": "[encoded data removed]",
      "text/plain": [
       "<Figure size 432x288 with 1 Axes>"
      ]
     },
     "metadata": {
      "needs_background": "light"
     },
     "output_type": "display_data"
    }
   ],
   "source": [
    "q1 = data2.trestbps.quantile(0.25)\n",
    "q3 = data2.trestbps.quantile(0.75)\n",
    "IQR = q3 - q1\n",
    "lower_limit = q1 - 1.5 * IQR\n",
    "upper_limit = q3 + 1.5 * IQR\n",
    "k1=data2[data2[\"chol\"] > upper_limit]\n",
    "data2=data2[data2[\"trestbps\"] < upper_limit]\n",
    "sns.boxplot(data2[\"trestbps\"])"
   ]
  },
  {
   "cell_type": "code",
   "execution_count": 29,
   "id": "c0b69847",
   "metadata": {
    "execution": {
     "iopub.execute_input": "2022-06-17T20:54:18.366044Z",
     "iopub.status.busy": "2022-06-17T20:54:18.365536Z",
     "iopub.status.idle": "2022-06-17T20:54:18.802712Z",
     "shell.execute_reply": "2022-06-17T20:54:18.801925Z"
    },
    "papermill": {
     "duration": 0.468072,
     "end_time": "2022-06-17T20:54:18.805220",
     "exception": false,
     "start_time": "2022-06-17T20:54:18.337148",
     "status": "completed"
    },
    "tags": []
   },
   "outputs": [
    {
     "data": {
      "text/plain": [
       "<AxesSubplot:>"
      ]
     },
     "execution_count": 29,
     "metadata": {},
     "output_type": "execute_result"
    },
    {
     "data": {
      "image/png": "[encoded data removed]",
      "text/plain": [
       "<Figure size 1080x360 with 1 Axes>"
      ]
     },
     "metadata": {
      "needs_background": "light"
     },
     "output_type": "display_data"
    }
   ],
   "source": [
    "plt.figure(figsize=(15,5))\n",
    "sns.boxplot(data=data2,orient='h')"
   ]
  },
  {
   "cell_type": "code",
   "execution_count": 30,
   "id": "6b8f5c6a",
   "metadata": {
    "execution": {
     "iopub.execute_input": "2022-06-17T20:54:18.864112Z",
     "iopub.status.busy": "2022-06-17T20:54:18.863018Z",
     "iopub.status.idle": "2022-06-17T20:54:19.050669Z",
     "shell.execute_reply": "2022-06-17T20:54:19.049396Z"
    },
    "papermill": {
     "duration": 0.223743,
     "end_time": "2022-06-17T20:54:19.055246",
     "exception": false,
     "start_time": "2022-06-17T20:54:18.831503",
     "status": "completed"
    },
    "tags": []
   },
   "outputs": [
    {
     "data": {
      "text/plain": [
       "<AxesSubplot:xlabel='thalach'>"
      ]
     },
     "execution_count": 30,
     "metadata": {},
     "output_type": "execute_result"
    },
    {
     "data": {
      "image/png": "[encoded data removed]",
      "text/plain": [
       "<Figure size 432x288 with 1 Axes>"
      ]
     },
     "metadata": {
      "needs_background": "light"
     },
     "output_type": "display_data"
    }
   ],
   "source": [
    "q1 = data2.thalach.quantile(0.25)\n",
    "q3 = data2.thalach.quantile(0.75)\n",
    "IQR = q3 - q1\n",
    "lower_limit = q1 - 1.5 * IQR\n",
    "k1=data2[data2[\"thalach\"] < lower_limit]\n",
    "data2=data2[data2[\"thalach\"] > lower_limit]\n",
    "sns.boxplot(data2[\"thalach\"])"
   ]
  },
  {
   "cell_type": "code",
   "execution_count": 31,
   "id": "77a4cb78",
   "metadata": {
    "execution": {
     "iopub.execute_input": "2022-06-17T20:54:19.117243Z",
     "iopub.status.busy": "2022-06-17T20:54:19.116472Z",
     "iopub.status.idle": "2022-06-17T20:54:19.548806Z",
     "shell.execute_reply": "2022-06-17T20:54:19.547920Z"
    },
    "papermill": {
     "duration": 0.465715,
     "end_time": "2022-06-17T20:54:19.551215",
     "exception": false,
     "start_time": "2022-06-17T20:54:19.085500",
     "status": "completed"
    },
    "tags": []
   },
   "outputs": [
    {
     "data": {
      "text/plain": [
       "<AxesSubplot:>"
      ]
     },
     "execution_count": 31,
     "metadata": {},
     "output_type": "execute_result"
    },
    {
     "data": {
      "image/png": "[encoded data removed]",
      "text/plain": [
       "<Figure size 1080x360 with 1 Axes>"
      ]
     },
     "metadata": {
      "needs_background": "light"
     },
     "output_type": "display_data"
    }
   ],
   "source": [
    "plt.figure(figsize=(15,5))\n",
    "sns.boxplot(data=data2,orient='h')"
   ]
  },
  {
   "cell_type": "code",
   "execution_count": 32,
   "id": "a22970d7",
   "metadata": {
    "execution": {
     "iopub.execute_input": "2022-06-17T20:54:19.611131Z",
     "iopub.status.busy": "2022-06-17T20:54:19.610354Z",
     "iopub.status.idle": "2022-06-17T20:54:19.673896Z",
     "shell.execute_reply": "2022-06-17T20:54:19.672918Z"
    },
    "papermill": {
     "duration": 0.097355,
     "end_time": "2022-06-17T20:54:19.676485",
     "exception": false,
     "start_time": "2022-06-17T20:54:19.579130",
     "status": "completed"
    },
    "tags": []
   },
   "outputs": [
    {
     "data": {
      "text/html": [
       "<div>\n",
       "<style scoped>\n",
       "    .dataframe tbody tr th:only-of-type {\n",
       "        vertical-align: middle;\n",
       "    }\n",
       "\n",
       "    .dataframe tbody tr th {\n",
       "        vertical-align: top;\n",
       "    }\n",
       "\n",
       "    .dataframe thead th {\n",
       "        text-align: right;\n",
       "    }\n",
       "</style>\n",
       "<table border=\"1\" class=\"dataframe\">\n",
       "  <thead>\n",
       "    <tr style=\"text-align: right;\">\n",
       "      <th></th>\n",
       "      <th>age</th>\n",
       "      <th>sex</th>\n",
       "      <th>cp</th>\n",
       "      <th>trestbps</th>\n",
       "      <th>chol</th>\n",
       "      <th>fbs</th>\n",
       "      <th>restecg</th>\n",
       "      <th>thalach</th>\n",
       "      <th>exang</th>\n",
       "      <th>oldpeak</th>\n",
       "      <th>slope</th>\n",
       "      <th>ca</th>\n",
       "      <th>thal</th>\n",
       "      <th>target</th>\n",
       "    </tr>\n",
       "  </thead>\n",
       "  <tbody>\n",
       "    <tr>\n",
       "      <th>count</th>\n",
       "      <td>278.000000</td>\n",
       "      <td>278.000000</td>\n",
       "      <td>278.000000</td>\n",
       "      <td>278.000000</td>\n",
       "      <td>278.000000</td>\n",
       "      <td>278.000000</td>\n",
       "      <td>278.000000</td>\n",
       "      <td>278.000000</td>\n",
       "      <td>278.000000</td>\n",
       "      <td>278.000000</td>\n",
       "      <td>278.000000</td>\n",
       "      <td>278.000000</td>\n",
       "      <td>278.000000</td>\n",
       "      <td>278.000000</td>\n",
       "    </tr>\n",
       "    <tr>\n",
       "      <th>mean</th>\n",
       "      <td>54.122302</td>\n",
       "      <td>0.694245</td>\n",
       "      <td>3.154676</td>\n",
       "      <td>129.496403</td>\n",
       "      <td>242.899281</td>\n",
       "      <td>0.133094</td>\n",
       "      <td>0.967626</td>\n",
       "      <td>149.705036</td>\n",
       "      <td>0.316547</td>\n",
       "      <td>1.011871</td>\n",
       "      <td>1.579137</td>\n",
       "      <td>0.676259</td>\n",
       "      <td>0.802158</td>\n",
       "      <td>0.449640</td>\n",
       "    </tr>\n",
       "    <tr>\n",
       "      <th>std</th>\n",
       "      <td>9.122480</td>\n",
       "      <td>0.461558</td>\n",
       "      <td>0.954467</td>\n",
       "      <td>14.994764</td>\n",
       "      <td>45.144580</td>\n",
       "      <td>0.340288</td>\n",
       "      <td>0.995855</td>\n",
       "      <td>22.900965</td>\n",
       "      <td>0.465968</td>\n",
       "      <td>1.131643</td>\n",
       "      <td>0.612030</td>\n",
       "      <td>0.936356</td>\n",
       "      <td>0.950240</td>\n",
       "      <td>0.498355</td>\n",
       "    </tr>\n",
       "    <tr>\n",
       "      <th>min</th>\n",
       "      <td>29.000000</td>\n",
       "      <td>0.000000</td>\n",
       "      <td>1.000000</td>\n",
       "      <td>94.000000</td>\n",
       "      <td>126.000000</td>\n",
       "      <td>0.000000</td>\n",
       "      <td>0.000000</td>\n",
       "      <td>88.000000</td>\n",
       "      <td>0.000000</td>\n",
       "      <td>0.000000</td>\n",
       "      <td>1.000000</td>\n",
       "      <td>0.000000</td>\n",
       "      <td>0.000000</td>\n",
       "      <td>0.000000</td>\n",
       "    </tr>\n",
       "    <tr>\n",
       "      <th>25%</th>\n",
       "      <td>47.000000</td>\n",
       "      <td>0.000000</td>\n",
       "      <td>3.000000</td>\n",
       "      <td>120.000000</td>\n",
       "      <td>210.250000</td>\n",
       "      <td>0.000000</td>\n",
       "      <td>0.000000</td>\n",
       "      <td>132.000000</td>\n",
       "      <td>0.000000</td>\n",
       "      <td>0.000000</td>\n",
       "      <td>1.000000</td>\n",
       "      <td>0.000000</td>\n",
       "      <td>0.000000</td>\n",
       "      <td>0.000000</td>\n",
       "    </tr>\n",
       "    <tr>\n",
       "      <th>50%</th>\n",
       "      <td>55.000000</td>\n",
       "      <td>1.000000</td>\n",
       "      <td>3.000000</td>\n",
       "      <td>130.000000</td>\n",
       "      <td>240.000000</td>\n",
       "      <td>0.000000</td>\n",
       "      <td>0.000000</td>\n",
       "      <td>152.500000</td>\n",
       "      <td>0.000000</td>\n",
       "      <td>0.750000</td>\n",
       "      <td>2.000000</td>\n",
       "      <td>0.000000</td>\n",
       "      <td>0.000000</td>\n",
       "      <td>0.000000</td>\n",
       "    </tr>\n",
       "    <tr>\n",
       "      <th>75%</th>\n",
       "      <td>60.750000</td>\n",
       "      <td>1.000000</td>\n",
       "      <td>4.000000</td>\n",
       "      <td>140.000000</td>\n",
       "      <td>272.500000</td>\n",
       "      <td>0.000000</td>\n",
       "      <td>2.000000</td>\n",
       "      <td>167.750000</td>\n",
       "      <td>1.000000</td>\n",
       "      <td>1.600000</td>\n",
       "      <td>2.000000</td>\n",
       "      <td>1.000000</td>\n",
       "      <td>2.000000</td>\n",
       "      <td>1.000000</td>\n",
       "    </tr>\n",
       "    <tr>\n",
       "      <th>max</th>\n",
       "      <td>77.000000</td>\n",
       "      <td>1.000000</td>\n",
       "      <td>4.000000</td>\n",
       "      <td>165.000000</td>\n",
       "      <td>360.000000</td>\n",
       "      <td>1.000000</td>\n",
       "      <td>2.000000</td>\n",
       "      <td>202.000000</td>\n",
       "      <td>1.000000</td>\n",
       "      <td>6.200000</td>\n",
       "      <td>3.000000</td>\n",
       "      <td>3.000000</td>\n",
       "      <td>2.000000</td>\n",
       "      <td>1.000000</td>\n",
       "    </tr>\n",
       "  </tbody>\n",
       "</table>\n",
       "</div>"
      ],
      "text/plain": [
       "              age         sex          cp    trestbps        chol         fbs  \\\n",
       "count  278.000000  278.000000  278.000000  278.000000  278.000000  278.000000   \n",
       "mean    54.122302    0.694245    3.154676  129.496403  242.899281    0.133094   \n",
       "std      9.122480    0.461558    0.954467   14.994764   45.144580    0.340288   \n",
       "min     29.000000    0.000000    1.000000   94.000000  126.000000    0.000000   \n",
       "25%     47.000000    0.000000    3.000000  120.000000  210.250000    0.000000   \n",
       "50%     55.000000    1.000000    3.000000  130.000000  240.000000    0.000000   \n",
       "75%     60.750000    1.000000    4.000000  140.000000  272.500000    0.000000   \n",
       "max     77.000000    1.000000    4.000000  165.000000  360.000000    1.000000   \n",
       "\n",
       "          restecg     thalach       exang     oldpeak       slope          ca  \\\n",
       "count  278.000000  278.000000  278.000000  278.000000  278.000000  278.000000   \n",
       "mean     0.967626  149.705036    0.316547    1.011871    1.579137    0.676259   \n",
       "std      0.995855   22.900965    0.465968    1.131643    0.612030    0.936356   \n",
       "min      0.000000   88.000000    0.000000    0.000000    1.000000    0.000000   \n",
       "25%      0.000000  132.000000    0.000000    0.000000    1.000000    0.000000   \n",
       "50%      0.000000  152.500000    0.000000    0.750000    2.000000    0.000000   \n",
       "75%      2.000000  167.750000    1.000000    1.600000    2.000000    1.000000   \n",
       "max      2.000000  202.000000    1.000000    6.200000    3.000000    3.000000   \n",
       "\n",
       "             thal      target  \n",
       "count  278.000000  278.000000  \n",
       "mean     0.802158    0.449640  \n",
       "std      0.950240    0.498355  \n",
       "min      0.000000    0.000000  \n",
       "25%      0.000000    0.000000  \n",
       "50%      0.000000    0.000000  \n",
       "75%      2.000000    1.000000  \n",
       "max      2.000000    1.000000  "
      ]
     },
     "execution_count": 32,
     "metadata": {},
     "output_type": "execute_result"
    }
   ],
   "source": [
    "data2.describe()"
   ]
  },
  {
   "cell_type": "code",
   "execution_count": 33,
   "id": "d84d443b",
   "metadata": {
    "execution": {
     "iopub.execute_input": "2022-06-17T20:54:19.737917Z",
     "iopub.status.busy": "2022-06-17T20:54:19.737007Z",
     "iopub.status.idle": "2022-06-17T20:54:19.745005Z",
     "shell.execute_reply": "2022-06-17T20:54:19.744011Z"
    },
    "papermill": {
     "duration": 0.04025,
     "end_time": "2022-06-17T20:54:19.747323",
     "exception": false,
     "start_time": "2022-06-17T20:54:19.707073",
     "status": "completed"
    },
    "tags": []
   },
   "outputs": [
    {
     "data": {
      "text/plain": [
       "(278, 14)"
      ]
     },
     "execution_count": 33,
     "metadata": {},
     "output_type": "execute_result"
    }
   ],
   "source": [
    "data2.shape"
   ]
  },
  {
   "cell_type": "markdown",
   "id": "3526893a",
   "metadata": {
    "papermill": {
     "duration": 0.027337,
     "end_time": "2022-06-17T20:54:19.803155",
     "exception": false,
     "start_time": "2022-06-17T20:54:19.775818",
     "status": "completed"
    },
    "tags": []
   },
   "source": [
    "## Data Splitting & Standardization"
   ]
  },
  {
   "cell_type": "code",
   "execution_count": 34,
   "id": "16d5c742",
   "metadata": {
    "execution": {
     "iopub.execute_input": "2022-06-17T20:54:19.859867Z",
     "iopub.status.busy": "2022-06-17T20:54:19.858709Z",
     "iopub.status.idle": "2022-06-17T20:54:19.865558Z",
     "shell.execute_reply": "2022-06-17T20:54:19.864755Z"
    },
    "papermill": {
     "duration": 0.037241,
     "end_time": "2022-06-17T20:54:19.867910",
     "exception": false,
     "start_time": "2022-06-17T20:54:19.830669",
     "status": "completed"
    },
    "tags": []
   },
   "outputs": [],
   "source": [
    "x = data2.drop('target',axis=1)\n",
    "y = data2['target']"
   ]
  },
  {
   "cell_type": "code",
   "execution_count": 35,
   "id": "95aaeaf6",
   "metadata": {
    "execution": {
     "iopub.execute_input": "2022-06-17T20:54:19.925345Z",
     "iopub.status.busy": "2022-06-17T20:54:19.924319Z",
     "iopub.status.idle": "2022-06-17T20:54:19.932729Z",
     "shell.execute_reply": "2022-06-17T20:54:19.931810Z"
    },
    "papermill": {
     "duration": 0.04117,
     "end_time": "2022-06-17T20:54:19.936682",
     "exception": false,
     "start_time": "2022-06-17T20:54:19.895512",
     "status": "completed"
    },
    "tags": []
   },
   "outputs": [],
   "source": [
    "x_train, x_test, y_train, y_test = train_test_split(x, y, test_size = 0.20,random_state=42)"
   ]
  },
  {
   "cell_type": "code",
   "execution_count": 36,
   "id": "f116ac5d",
   "metadata": {
    "execution": {
     "iopub.execute_input": "2022-06-17T20:54:19.996010Z",
     "iopub.status.busy": "2022-06-17T20:54:19.995429Z",
     "iopub.status.idle": "2022-06-17T20:54:20.009490Z",
     "shell.execute_reply": "2022-06-17T20:54:20.008633Z"
    },
    "papermill": {
     "duration": 0.045276,
     "end_time": "2022-06-17T20:54:20.011588",
     "exception": false,
     "start_time": "2022-06-17T20:54:19.966312",
     "status": "completed"
    },
    "tags": []
   },
   "outputs": [
    {
     "data": {
      "text/plain": [
       "array([[ 0.10638606, -1.4735768 ,  0.90584211, ...,  0.7250728 ,\n",
       "         0.41053404,  1.27390078],\n",
       "       [-0.33713891,  0.67862089, -0.15816291, ..., -0.93437217,\n",
       "         0.41053404,  1.27390078],\n",
       "       [-1.11330759,  0.67862089, -0.15816291, ..., -0.93437217,\n",
       "        -0.70091178, -0.84449602],\n",
       "       ...,\n",
       "       [ 0.2172673 ,  0.67862089,  0.90584211, ...,  0.7250728 ,\n",
       "         0.41053404, -0.84449602],\n",
       "       [ 0.99343598, -1.4735768 ,  0.90584211, ...,  0.7250728 ,\n",
       "        -0.70091178, -0.84449602],\n",
       "       [ 0.32814854,  0.67862089, -0.15816291, ...,  0.7250728 ,\n",
       "         0.41053404,  1.27390078]])"
      ]
     },
     "execution_count": 36,
     "metadata": {},
     "output_type": "execute_result"
    }
   ],
   "source": [
    "scaler = StandardScaler()\n",
    "x_train = scaler.fit_transform(x_train)\n",
    "x_train"
   ]
  },
  {
   "cell_type": "code",
   "execution_count": 37,
   "id": "f2cd2907",
   "metadata": {
    "execution": {
     "iopub.execute_input": "2022-06-17T20:54:20.070369Z",
     "iopub.status.busy": "2022-06-17T20:54:20.069890Z",
     "iopub.status.idle": "2022-06-17T20:54:20.089404Z",
     "shell.execute_reply": "2022-06-17T20:54:20.088459Z"
    },
    "papermill": {
     "duration": 0.052823,
     "end_time": "2022-06-17T20:54:20.092183",
     "exception": false,
     "start_time": "2022-06-17T20:54:20.039360",
     "status": "completed"
    },
    "scrolled": true,
    "tags": []
   },
   "outputs": [
    {
     "data": {
      "text/plain": [
       "array([[ 6.60792258e-01,  6.78620893e-01,  9.05842110e-01,\n",
       "        -8.35984109e-01, -2.91442535e-01,  2.74562589e+00,\n",
       "        -9.97755374e-01,  5.13173413e-01,  1.42866927e+00,\n",
       "         3.99512786e-01, -9.34372169e-01,  1.52197986e+00,\n",
       "         1.27390078e+00],\n",
       "       [-3.37138907e-01,  6.78620893e-01,  9.05842110e-01,\n",
       "         6.80908166e-01,  3.96150035e-01, -3.64215680e-01,\n",
       "         1.00678483e+00,  1.64242882e+00,  1.42866927e+00,\n",
       "        -8.76628774e-01, -9.34372169e-01, -7.00911778e-01,\n",
       "        -8.44496021e-01],\n",
       "       [-8.91545109e-01, -1.47357680e+00,  9.05842110e-01,\n",
       "         5.49004490e-01, -3.09726383e-03, -3.64215680e-01,\n",
       "         1.00678483e+00,  1.65710210e-01,  1.42866927e+00,\n",
       "        -8.76628774e-01,  7.25072803e-01, -7.00911778e-01,\n",
       "        -8.44496021e-01],\n",
       "       [-2.26257666e-01,  6.78620893e-01, -2.28617294e+00,\n",
       "         1.47233022e+00,  1.21682504e+00,  2.74562589e+00,\n",
       "        -9.97755374e-01,  1.29496562e+00, -6.99952060e-01,\n",
       "         2.17206849e-01,  7.25072803e-01, -7.00911778e-01,\n",
       "         1.27390078e+00],\n",
       "       [ 5.49911017e-01,  6.78620893e-01, -2.28617294e+00,\n",
       "         2.85197138e-01, -8.68133078e-01, -3.64215680e-01,\n",
       "        -9.97755374e-01,  6.00039214e-01, -6.99952060e-01,\n",
       "        -1.47405026e-01, -9.34372169e-01,  1.52197986e+00,\n",
       "        -8.44496021e-01],\n",
       "       [ 2.43489211e+00, -1.47357680e+00, -1.58162908e-01,\n",
       "         6.80908166e-01, -1.02339592e+00, -3.64215680e-01,\n",
       "         4.51473020e-03, -1.39787420e+00, -6.99952060e-01,\n",
       "         1.26053880e-01,  7.25072803e-01, -7.00911778e-01,\n",
       "        -8.44496021e-01],\n",
       "       [ 3.28148536e-01, -1.47357680e+00,  9.05842110e-01,\n",
       "        -1.10513891e-01,  1.32772707e+00, -3.64215680e-01,\n",
       "         1.00678483e+00,  4.69740513e-01, -6.99952060e-01,\n",
       "        -8.76628774e-01, -9.34372169e-01,  4.10534042e-01,\n",
       "        -8.44496021e-01],\n",
       "       [ 9.93435979e-01, -1.47357680e+00,  9.05842110e-01,\n",
       "        -1.42955065e+00,  5.73593279e-01, -3.64215680e-01,\n",
       "        -9.97755374e-01,  9.04069517e-01,  1.42866927e+00,\n",
       "         7.64124660e-01,  7.25072803e-01,  1.52197986e+00,\n",
       "        -8.44496021e-01],\n",
       "       [ 4.39029777e-01,  6.78620893e-01,  9.05842110e-01,\n",
       "        -1.03383962e+00,  1.66043315e+00, -3.64215680e-01,\n",
       "         4.51473020e-03, -3.55484595e-01, -6.99952060e-01,\n",
       "         3.13410184e+00,  2.38451777e+00,  2.63342568e+00,\n",
       "         2.14702378e-01],\n",
       "       [ 1.06386055e-01,  6.78620893e-01,  9.05842110e-01,\n",
       "         1.99994493e+00,  1.01720139e+00, -3.64215680e-01,\n",
       "         1.00678483e+00, -1.38320093e-01,  1.42866927e+00,\n",
       "        -1.47405026e-01,  7.25072803e-01,  4.10534042e-01,\n",
       "         1.27390078e+00],\n",
       "       [-1.66771379e+00,  6.78620893e-01, -1.58162908e-01,\n",
       "         6.80908166e-01,  1.72697437e+00, -3.64215680e-01,\n",
       "         1.00678483e+00,  1.46869722e+00, -6.99952060e-01,\n",
       "        -8.76628774e-01, -9.34372169e-01, -7.00911778e-01,\n",
       "        -8.44496021e-01],\n",
       "       [ 1.43696094e+00, -1.47357680e+00, -1.58162908e-01,\n",
       "         1.47233022e+00,  7.51036523e-01, -3.64215680e-01,\n",
       "        -9.97755374e-01,  1.03436822e+00, -6.99952060e-01,\n",
       "        -8.76628774e-01, -9.34372169e-01,  4.10534042e-01,\n",
       "        -8.44496021e-01],\n",
       "       [ 4.39029777e-01,  6.78620893e-01,  9.05842110e-01,\n",
       "         1.07661919e+00, -5.57607401e-01, -3.64215680e-01,\n",
       "        -9.97755374e-01, -1.87563611e+00, -6.99952060e-01,\n",
       "         9.46430597e-01,  7.25072803e-01,  4.10534042e-01,\n",
       "         1.27390078e+00],\n",
       "       [ 5.49911017e-01,  6.78620893e-01,  9.05842110e-01,\n",
       "         6.80908166e-01, -1.46700403e+00, -3.64215680e-01,\n",
       "        -9.97755374e-01,  6.00039214e-01,  1.42866927e+00,\n",
       "        -8.76628774e-01, -9.34372169e-01,  4.10534042e-01,\n",
       "         1.27390078e+00],\n",
       "       [-1.44595131e+00,  6.78620893e-01, -1.58162908e-01,\n",
       "         2.13897853e-02, -6.46329023e-01, -3.64215680e-01,\n",
       "         1.00678483e+00,  8.60636617e-01, -6.99952060e-01,\n",
       "         9.46430597e-01,  7.25072803e-01, -7.00911778e-01,\n",
       "        -8.44496021e-01],\n",
       "       [ 1.21519846e+00,  6.78620893e-01,  9.05842110e-01,\n",
       "         3.51148976e-01,  2.40887197e-01, -3.64215680e-01,\n",
       "         1.00678483e+00, -9.20112300e-01, -6.99952060e-01,\n",
       "         1.67565435e+00,  7.25072803e-01,  4.10534042e-01,\n",
       "         1.27390078e+00],\n",
       "       [-1.77859503e+00,  6.78620893e-01, -2.28617294e+00,\n",
       "        -6.38128595e-01, -2.69262130e-01, -3.64215680e-01,\n",
       "        -9.97755374e-01,  1.46869722e+00,  1.42866927e+00,\n",
       "         2.58718403e+00,  7.25072803e-01, -7.00911778e-01,\n",
       "         1.27390078e+00],\n",
       "       [ 4.39029777e-01,  6.78620893e-01,  9.05842110e-01,\n",
       "        -1.10513891e-01, -6.01968212e-01, -3.64215680e-01,\n",
       "         1.00678483e+00, -7.46380698e-01,  1.42866927e+00,\n",
       "         1.12873653e+00,  7.25072803e-01,  2.63342568e+00,\n",
       "         1.27390078e+00],\n",
       "       [-4.49518543e-03, -1.47357680e+00, -1.58162908e-01,\n",
       "        -1.42955065e+00,  5.29232468e-01, -3.64215680e-01,\n",
       "         1.00678483e+00,  8.17203716e-01, -6.99952060e-01,\n",
       "        -8.76628774e-01, -9.34372169e-01, -7.00911778e-01,\n",
       "        -8.44496021e-01],\n",
       "       [ 6.60792258e-01, -1.47357680e+00, -2.28617294e+00,\n",
       "         1.34042655e+00, -6.96384803e-02, -3.64215680e-01,\n",
       "        -9.97755374e-01,  9.90935318e-01, -6.99952060e-01,\n",
       "        -5.62520572e-02, -9.34372169e-01, -7.00911778e-01,\n",
       "        -8.44496021e-01],\n",
       "       [-3.37138907e-01,  6.78620893e-01, -1.58162908e-01,\n",
       "        -1.29764698e+00, -1.51136484e+00, -3.64215680e-01,\n",
       "        -9.97755374e-01, -1.09384390e+00, -6.99952060e-01,\n",
       "        -3.29710963e-01, -9.34372169e-01, -7.00911778e-01,\n",
       "        -8.44496021e-01],\n",
       "       [ 6.60792258e-01,  6.78620893e-01,  9.05842110e-01,\n",
       "        -3.08369405e-01,  3.29608819e-01, -3.64215680e-01,\n",
       "         1.00678483e+00, -3.12051694e-01,  1.42866927e+00,\n",
       "         1.67565435e+00,  7.25072803e-01,  4.10534042e-01,\n",
       "         1.27390078e+00],\n",
       "       [-4.48020147e-01, -1.47357680e+00, -1.22216793e+00,\n",
       "        -6.38128595e-01,  1.90831417e-02, -3.64215680e-01,\n",
       "        -9.97755374e-01,  6.00039214e-01, -6.99952060e-01,\n",
       "         1.26053880e-01, -9.34372169e-01, -7.00911778e-01,\n",
       "        -8.44496021e-01],\n",
       "       [ 3.28148536e-01,  6.78620893e-01,  9.05842110e-01,\n",
       "        -1.29764698e+00,  2.03750004e+00, -3.64215680e-01,\n",
       "        -9.97755374e-01, -2.25185894e-01,  1.42866927e+00,\n",
       "         1.85796028e+00,  7.25072803e-01,  4.10534042e-01,\n",
       "         1.27390078e+00],\n",
       "       [ 1.54784218e+00,  6.78620893e-01,  9.05842110e-01,\n",
       "         9.44715518e-01, -1.11211754e+00,  2.74562589e+00,\n",
       "        -9.97755374e-01, -3.12051694e-01, -6.99952060e-01,\n",
       "         2.22257216e+00,  7.25072803e-01,  1.52197986e+00,\n",
       "         1.27390078e+00],\n",
       "       [-5.58901388e-01,  6.78620893e-01, -1.58162908e-01,\n",
       "        -7.70032271e-01, -2.08805538e+00, -3.64215680e-01,\n",
       "         1.00678483e+00, -9.63545201e-01, -6.99952060e-01,\n",
       "        -1.47405026e-01, -9.34372169e-01,  2.63342568e+00,\n",
       "        -8.44496021e-01],\n",
       "       [-3.37138907e-01, -1.47357680e+00, -1.58162908e-01,\n",
       "         2.13897853e-02,  2.85248008e-01, -3.64215680e-01,\n",
       "         1.00678483e+00,  3.54115089e-02, -6.99952060e-01,\n",
       "        -4.20863932e-01, -9.34372169e-01, -7.00911778e-01,\n",
       "        -8.44496021e-01],\n",
       "       [ 5.49911017e-01,  6.78620893e-01, -1.58162908e-01,\n",
       "         1.34042655e+00, -6.90689834e-01,  2.74562589e+00,\n",
       "        -9.97755374e-01,  3.82874712e-01, -6.99952060e-01,\n",
       "         5.81818723e-01, -9.34372169e-01, -7.00911778e-01,\n",
       "        -8.44496021e-01],\n",
       "       [-1.15376426e-01,  6.78620893e-01,  9.05842110e-01,\n",
       "         6.80908166e-01, -8.90313484e-01,  2.74562589e+00,\n",
       "         1.00678483e+00,  2.96008911e-01,  1.42866927e+00,\n",
       "         1.94911325e+00,  2.38451777e+00, -7.00911778e-01,\n",
       "         1.27390078e+00],\n",
       "       [ 1.21519846e+00,  6.78620893e-01, -2.28617294e+00,\n",
       "         5.49004490e-01,  8.61938551e-01,  2.74562589e+00,\n",
       "         1.00678483e+00,  1.12123402e+00, -6.99952060e-01,\n",
       "         3.99512786e-01,  7.25072803e-01,  4.10534042e-01,\n",
       "        -8.44496021e-01],\n",
       "       [ 4.39029777e-01,  6.78620893e-01, -1.58162908e-01,\n",
       "         1.53293461e-01, -4.24524968e-01, -3.64215680e-01,\n",
       "         1.00678483e+00,  1.07780112e+00, -6.99952060e-01,\n",
       "         2.04026622e+00, -9.34372169e-01,  1.52197986e+00,\n",
       "         1.27390078e+00],\n",
       "       [-6.69782628e-01,  6.78620893e-01, -1.58162908e-01,\n",
       "        -3.74321243e-01,  2.63067602e-01,  2.74562589e+00,\n",
       "        -9.97755374e-01,  1.16466692e+00, -6.99952060e-01,\n",
       "        -8.76628774e-01, -9.34372169e-01,  1.52197986e+00,\n",
       "        -8.44496021e-01],\n",
       "       [-4.48020147e-01, -1.47357680e+00, -1.58162908e-01,\n",
       "        -6.38128595e-01, -5.35426996e-01, -3.64215680e-01,\n",
       "        -9.97755374e-01,  4.26307613e-01, -6.99952060e-01,\n",
       "         5.81818723e-01,  7.25072803e-01, -7.00911778e-01,\n",
       "        -8.44496021e-01],\n",
       "       [-6.69782628e-01,  6.78620893e-01,  9.05842110e-01,\n",
       "        -3.74321243e-01,  6.84495307e-01, -3.64215680e-01,\n",
       "         1.00678483e+00,  7.73770816e-01, -6.99952060e-01,\n",
       "        -4.20863932e-01,  7.25072803e-01, -7.00911778e-01,\n",
       "         1.27390078e+00],\n",
       "       [ 4.39029777e-01,  6.78620893e-01,  9.05842110e-01,\n",
       "        -1.95716536e+00, -2.02720913e-01, -3.64215680e-01,\n",
       "        -9.97755374e-01,  3.39441812e-01, -6.99952060e-01,\n",
       "        -7.85475806e-01, -9.34372169e-01,  4.10534042e-01,\n",
       "         1.27390078e+00],\n",
       "       [-6.69782628e-01,  6.78620893e-01, -1.22216793e+00,\n",
       "         2.13897853e-02,  4.12635472e-02, -3.64215680e-01,\n",
       "         1.00678483e+00,  1.38183142e+00, -6.99952060e-01,\n",
       "        -6.94322837e-01,  7.25072803e-01, -7.00911778e-01,\n",
       "        -8.44496021e-01],\n",
       "       [-1.22418883e+00,  6.78620893e-01,  9.05842110e-01,\n",
       "        -9.67887786e-01,  1.32772707e+00, -3.64215680e-01,\n",
       "        -9.97755374e-01,  1.42526432e+00, -6.99952060e-01,\n",
       "         2.17206849e-01,  7.25072803e-01, -7.00911778e-01,\n",
       "        -8.44496021e-01],\n",
       "       [ 1.43696094e+00, -1.47357680e+00,  9.05842110e-01,\n",
       "        -1.56145433e+00, -4.46705374e-01, -3.64215680e-01,\n",
       "        -9.97755374e-01, -2.68618794e-01, -6.99952060e-01,\n",
       "        -6.03169869e-01, -9.34372169e-01,  1.52197986e+00,\n",
       "        -8.44496021e-01],\n",
       "       [ 8.82554738e-01, -1.47357680e+00,  9.05842110e-01,\n",
       "         6.80908166e-01,  5.51412874e-01, -3.64215680e-01,\n",
       "         1.00678483e+00,  5.13173413e-01, -6.99952060e-01,\n",
       "         2.40487809e+00,  2.38451777e+00,  1.52197986e+00,\n",
       "        -8.44496021e-01],\n",
       "       [ 1.43696094e+00,  6.78620893e-01,  9.05842110e-01,\n",
       "        -3.08369405e-01,  2.40887197e-01,  2.74562589e+00,\n",
       "        -9.97755374e-01,  6.43472115e-01, -6.99952060e-01,\n",
       "        -6.94322837e-01,  7.25072803e-01,  1.52197986e+00,\n",
       "         1.27390078e+00],\n",
       "       [-4.48020147e-01,  6.78620893e-01,  9.05842110e-01,\n",
       "         1.34042655e+00, -3.09726383e-03, -3.64215680e-01,\n",
       "         1.00678483e+00, -8.76679400e-01, -6.99952060e-01,\n",
       "         1.49334841e+00,  7.25072803e-01, -7.00911778e-01,\n",
       "         1.27390078e+00],\n",
       "       [ 8.82554738e-01, -1.47357680e+00,  9.05842110e-01,\n",
       "         5.49004490e-01,  1.12810342e+00,  2.74562589e+00,\n",
       "        -9.97755374e-01, -1.83220321e+00, -6.99952060e-01,\n",
       "         8.55277629e-01,  7.25072803e-01,  2.63342568e+00,\n",
       "        -8.44496021e-01],\n",
       "       [-8.91545109e-01,  6.78620893e-01, -1.58162908e-01,\n",
       "         1.34042655e+00, -2.69262130e-01, -3.64215680e-01,\n",
       "        -9.97755374e-01, -5.14542919e-02, -6.99952060e-01,\n",
       "         2.40487809e+00,  7.25072803e-01, -7.00911778e-01,\n",
       "        -8.44496021e-01],\n",
       "       [ 4.39029777e-01, -1.47357680e+00, -1.58162908e-01,\n",
       "        -6.38128595e-01,  2.14840207e+00, -3.64215680e-01,\n",
       "        -9.97755374e-01,  1.03436822e+00, -6.99952060e-01,\n",
       "        -8.76628774e-01, -9.34372169e-01, -7.00911778e-01,\n",
       "        -8.44496021e-01],\n",
       "       [-2.77652620e+00,  6.78620893e-01, -1.22216793e+00,\n",
       "         2.13897853e-02, -8.68133078e-01, -3.64215680e-01,\n",
       "         1.00678483e+00,  2.33735523e+00, -6.99952060e-01,\n",
       "        -8.76628774e-01, -9.34372169e-01, -7.00911778e-01,\n",
       "        -8.44496021e-01],\n",
       "       [-2.26257666e-01,  6.78620893e-01,  9.05842110e-01,\n",
       "        -1.42955065e+00, -2.24901319e-01,  2.74562589e+00,\n",
       "        -9.97755374e-01, -5.14542919e-02, -6.99952060e-01,\n",
       "        -7.85475806e-01, -9.34372169e-01,  2.63342568e+00,\n",
       "         1.27390078e+00],\n",
       "       [ 1.10431722e+00,  6.78620893e-01, -2.28617294e+00,\n",
       "        -1.29764698e+00, -7.12870240e-01, -3.64215680e-01,\n",
       "         1.00678483e+00, -1.81752993e-01,  1.42866927e+00,\n",
       "         7.64124660e-01,  7.25072803e-01, -7.00911778e-01,\n",
       "        -8.44496021e-01],\n",
       "       [-7.80663869e-01,  6.78620893e-01, -1.58162908e-01,\n",
       "         5.49004490e-01,  3.07428413e-01, -3.64215680e-01,\n",
       "         1.00678483e+00,  3.39441812e-01, -6.99952060e-01,\n",
       "        -8.76628774e-01, -9.34372169e-01, -7.00911778e-01,\n",
       "        -8.44496021e-01],\n",
       "       [-1.33507007e+00,  6.78620893e-01, -1.58162908e-01,\n",
       "        -6.38128595e-01, -6.96384803e-02,  2.74562589e+00,\n",
       "        -9.97755374e-01,  1.98989203e+00, -6.99952060e-01,\n",
       "        -1.47405026e-01,  2.38451777e+00, -7.00911778e-01,\n",
       "         1.27390078e+00],\n",
       "       [ 3.28148536e-01,  6.78620893e-01,  9.05842110e-01,\n",
       "         2.13897853e-02, -2.48730268e+00, -3.64215680e-01,\n",
       "        -9.97755374e-01, -1.44130711e+00,  1.42866927e+00,\n",
       "         2.17206849e-01,  7.25072803e-01,  4.10534042e-01,\n",
       "         1.27390078e+00],\n",
       "       [-2.26257666e-01,  6.78620893e-01,  9.05842110e-01,\n",
       "        -1.10513891e-01,  2.63067602e-01, -3.64215680e-01,\n",
       "        -9.97755374e-01,  5.56606314e-01,  1.42866927e+00,\n",
       "        -8.76628774e-01, -9.34372169e-01,  4.10534042e-01,\n",
       "         1.27390078e+00],\n",
       "       [ 2.54577335e+00,  6.78620893e-01,  9.05842110e-01,\n",
       "        -3.08369405e-01,  1.34990747e+00, -3.64215680e-01,\n",
       "         1.00678483e+00,  6.00039214e-01,  1.42866927e+00,\n",
       "        -8.76628774e-01, -9.34372169e-01,  2.63342568e+00,\n",
       "        -8.44496021e-01],\n",
       "       [-2.11123875e+00,  6.78620893e-01, -1.22216793e+00,\n",
       "        -5.06224919e-01, -1.13429794e+00, -3.64215680e-01,\n",
       "        -9.97755374e-01,  1.12123402e+00, -6.99952060e-01,\n",
       "        -8.76628774e-01, -9.34372169e-01, -7.00911778e-01,\n",
       "        -8.44496021e-01],\n",
       "       [-6.69782628e-01,  6.78620893e-01, -1.22216793e+00,\n",
       "        -1.29764698e+00, -3.13622941e-01, -3.64215680e-01,\n",
       "        -9.97755374e-01,  8.60636617e-01, -6.99952060e-01,\n",
       "         3.49009114e-02,  2.38451777e+00, -7.00911778e-01,\n",
       "         1.27390078e+00],\n",
       "       [-1.00242635e+00, -1.47357680e+00, -1.22216793e+00,\n",
       "        -1.16574330e+00, -1.84407092e+00, -3.64215680e-01,\n",
       "        -9.97755374e-01, -4.42350396e-01, -6.99952060e-01,\n",
       "        -8.76628774e-01,  7.25072803e-01, -7.00911778e-01,\n",
       "        -8.44496021e-01],\n",
       "       [ 3.28148536e-01,  6.78620893e-01,  9.05842110e-01,\n",
       "         6.80908166e-01, -1.13429794e+00, -3.64215680e-01,\n",
       "        -9.97755374e-01, -8.02139152e-03, -6.99952060e-01,\n",
       "        -5.12016900e-01,  7.25072803e-01, -7.00911778e-01,\n",
       "         2.14702378e-01]])"
      ]
     },
     "execution_count": 37,
     "metadata": {},
     "output_type": "execute_result"
    }
   ],
   "source": [
    "x_test = scaler.transform(x_test)\n",
    "x_test"
   ]
  },
  {
   "cell_type": "markdown",
   "id": "6a8ad1aa",
   "metadata": {},
   "source": [
    "## 方法1:DecisionTreeClassifier"
   ]
  },
  {
   "cell_type": "code",
   "execution_count": 38,
   "id": "4953b4b1",
   "metadata": {
    "papermill": {
     "duration": 0.030908,
     "end_time": "2022-06-17T20:54:20.150858",
     "exception": false,
     "start_time": "2022-06-17T20:54:20.119950",
     "status": "completed"
    },
    "tags": []
   },
   "outputs": [
    {
     "data": {
      "text/html": [
       "<div>\n",
       "<style scoped>\n",
       "    .dataframe tbody tr th:only-of-type {\n",
       "        vertical-align: middle;\n",
       "    }\n",
       "\n",
       "    .dataframe tbody tr th {\n",
       "        vertical-align: top;\n",
       "    }\n",
       "\n",
       "    .dataframe thead th {\n",
       "        text-align: right;\n",
       "    }\n",
       "</style>\n",
       "<table border=\"1\" class=\"dataframe\">\n",
       "  <thead>\n",
       "    <tr style=\"text-align: right;\">\n",
       "      <th></th>\n",
       "      <th>Actual</th>\n",
       "      <th>Predicted</th>\n",
       "    </tr>\n",
       "  </thead>\n",
       "  <tbody>\n",
       "    <tr>\n",
       "      <th>0</th>\n",
       "      <td>1</td>\n",
       "      <td>1</td>\n",
       "    </tr>\n",
       "    <tr>\n",
       "      <th>1</th>\n",
       "      <td>0</td>\n",
       "      <td>0</td>\n",
       "    </tr>\n",
       "    <tr>\n",
       "      <th>2</th>\n",
       "      <td>0</td>\n",
       "      <td>0</td>\n",
       "    </tr>\n",
       "    <tr>\n",
       "      <th>3</th>\n",
       "      <td>0</td>\n",
       "      <td>1</td>\n",
       "    </tr>\n",
       "    <tr>\n",
       "      <th>4</th>\n",
       "      <td>1</td>\n",
       "      <td>0</td>\n",
       "    </tr>\n",
       "    <tr>\n",
       "      <th>5</th>\n",
       "      <td>0</td>\n",
       "      <td>0</td>\n",
       "    </tr>\n",
       "    <tr>\n",
       "      <th>6</th>\n",
       "      <td>0</td>\n",
       "      <td>0</td>\n",
       "    </tr>\n",
       "  </tbody>\n",
       "</table>\n",
       "</div>"
      ],
      "text/plain": [
       "   Actual  Predicted\n",
       "0       1          1\n",
       "1       0          0\n",
       "2       0          0\n",
       "3       0          1\n",
       "4       1          0\n",
       "5       0          0\n",
       "6       0          0"
      ]
     },
     "execution_count": 38,
     "metadata": {},
     "output_type": "execute_result"
    }
   ],
   "source": [
    "DT = DecisionTreeClassifier()\n",
    "DT.fit(x_train, y_train)\n",
    "lr_pred = DT.predict(x_test)\n",
    "pd.DataFrame(np.c_[y_test,lr_pred],columns=['Actual','Predicted']).head(7)"
   ]
  },
  {
   "cell_type": "code",
   "execution_count": 39,
   "id": "ba22d0ff",
   "metadata": {},
   "outputs": [
    {
     "name": "stdout",
     "output_type": "stream",
     "text": [
      " Test Accuracy score :  67.86 %\n",
      "Train Accuracy score :  100.0 %\n",
      "----------------------\n",
      "Classification Report\n",
      "----------------------\n",
      "              precision    recall  f1-score   support\n",
      "\n",
      "           0       0.65      0.79      0.71        28\n",
      "           1       0.73      0.57      0.64        28\n",
      "\n",
      "    accuracy                           0.68        56\n",
      "   macro avg       0.69      0.68      0.67        56\n",
      "weighted avg       0.69      0.68      0.67        56\n",
      "\n"
     ]
    },
    {
     "data": {
      "image/png": "[encoded data removed]",
      "text/plain": [
       "<Figure size 360x216 with 2 Axes>"
      ]
     },
     "metadata": {
      "needs_background": "light"
     },
     "output_type": "display_data"
    }
   ],
   "source": [
    "print(\" Test Accuracy score : \",round(DT.score(x_test,y_test)*100,2),\"%\")\n",
    "print(\"Train Accuracy score : \",round(DT.score(x_train,y_train)*100,2),\"%\")\n",
    "print(\"----------------------\")\n",
    "print(\"Classification Report\")\n",
    "print(\"----------------------\")\n",
    "con = confusion_matrix(lr_pred,y_test)\n",
    "plt.figure(figsize=(5,3))\n",
    "sns.heatmap(con, annot=True,cmap=\"YlGnBu\",fmt='g')\n",
    "plt.xlabel('Actual Values')\n",
    "plt.ylabel('Predicted Values')\n",
    "print(classification_report(y_test,lr_pred))"
   ]
  },
  {
   "cell_type": "code",
   "execution_count": null,
   "id": "b9c7409c",
   "metadata": {},
   "outputs": [],
   "source": []
  },
  {
   "cell_type": "markdown",
   "id": "49c6eb0a",
   "metadata": {
    "papermill": {
     "duration": 0.029876,
     "end_time": "2022-06-17T20:54:20.213514",
     "exception": false,
     "start_time": "2022-06-17T20:54:20.183638",
     "status": "completed"
    },
    "tags": []
   },
   "source": [
    "## 方法2 Logistic Regression"
   ]
  },
  {
   "cell_type": "code",
   "execution_count": 40,
   "id": "35f2e30e",
   "metadata": {
    "execution": {
     "iopub.execute_input": "2022-06-17T20:54:20.272321Z",
     "iopub.status.busy": "2022-06-17T20:54:20.271162Z",
     "iopub.status.idle": "2022-06-17T20:54:20.290636Z",
     "shell.execute_reply": "2022-06-17T20:54:20.289009Z"
    },
    "papermill": {
     "duration": 0.05198,
     "end_time": "2022-06-17T20:54:20.293486",
     "exception": false,
     "start_time": "2022-06-17T20:54:20.241506",
     "status": "completed"
    },
    "tags": []
   },
   "outputs": [
    {
     "data": {
      "text/plain": [
       "LogisticRegression()"
      ]
     },
     "execution_count": 40,
     "metadata": {},
     "output_type": "execute_result"
    }
   ],
   "source": [
    "lr = LogisticRegression()\n",
    "lr.fit(x_train, y_train)"
   ]
  },
  {
   "cell_type": "code",
   "execution_count": 41,
   "id": "52e7aa67",
   "metadata": {
    "execution": {
     "iopub.execute_input": "2022-06-17T20:54:20.356133Z",
     "iopub.status.busy": "2022-06-17T20:54:20.355220Z",
     "iopub.status.idle": "2022-06-17T20:54:20.369710Z",
     "shell.execute_reply": "2022-06-17T20:54:20.368180Z"
    },
    "papermill": {
     "duration": 0.047694,
     "end_time": "2022-06-17T20:54:20.372365",
     "exception": false,
     "start_time": "2022-06-17T20:54:20.324671",
     "status": "completed"
    },
    "tags": []
   },
   "outputs": [
    {
     "data": {
      "text/html": [
       "<div>\n",
       "<style scoped>\n",
       "    .dataframe tbody tr th:only-of-type {\n",
       "        vertical-align: middle;\n",
       "    }\n",
       "\n",
       "    .dataframe tbody tr th {\n",
       "        vertical-align: top;\n",
       "    }\n",
       "\n",
       "    .dataframe thead th {\n",
       "        text-align: right;\n",
       "    }\n",
       "</style>\n",
       "<table border=\"1\" class=\"dataframe\">\n",
       "  <thead>\n",
       "    <tr style=\"text-align: right;\">\n",
       "      <th></th>\n",
       "      <th>Actual</th>\n",
       "      <th>Predicted</th>\n",
       "    </tr>\n",
       "  </thead>\n",
       "  <tbody>\n",
       "    <tr>\n",
       "      <th>0</th>\n",
       "      <td>1</td>\n",
       "      <td>1</td>\n",
       "    </tr>\n",
       "    <tr>\n",
       "      <th>1</th>\n",
       "      <td>0</td>\n",
       "      <td>0</td>\n",
       "    </tr>\n",
       "    <tr>\n",
       "      <th>2</th>\n",
       "      <td>0</td>\n",
       "      <td>0</td>\n",
       "    </tr>\n",
       "    <tr>\n",
       "      <th>3</th>\n",
       "      <td>0</td>\n",
       "      <td>0</td>\n",
       "    </tr>\n",
       "    <tr>\n",
       "      <th>4</th>\n",
       "      <td>1</td>\n",
       "      <td>0</td>\n",
       "    </tr>\n",
       "    <tr>\n",
       "      <th>5</th>\n",
       "      <td>0</td>\n",
       "      <td>0</td>\n",
       "    </tr>\n",
       "    <tr>\n",
       "      <th>6</th>\n",
       "      <td>0</td>\n",
       "      <td>0</td>\n",
       "    </tr>\n",
       "  </tbody>\n",
       "</table>\n",
       "</div>"
      ],
      "text/plain": [
       "   Actual  Predicted\n",
       "0       1          1\n",
       "1       0          0\n",
       "2       0          0\n",
       "3       0          0\n",
       "4       1          0\n",
       "5       0          0\n",
       "6       0          0"
      ]
     },
     "execution_count": 41,
     "metadata": {},
     "output_type": "execute_result"
    }
   ],
   "source": [
    "lr_pred = lr.predict(x_test)\n",
    "pd.DataFrame(np.c_[y_test,lr_pred],columns=['Actual','Predicted']).head(7)"
   ]
  },
  {
   "cell_type": "code",
   "execution_count": 42,
   "id": "14c2367c",
   "metadata": {
    "execution": {
     "iopub.execute_input": "2022-06-17T20:54:20.436338Z",
     "iopub.status.busy": "2022-06-17T20:54:20.434363Z",
     "iopub.status.idle": "2022-06-17T20:54:20.721561Z",
     "shell.execute_reply": "2022-06-17T20:54:20.720031Z"
    },
    "papermill": {
     "duration": 0.323032,
     "end_time": "2022-06-17T20:54:20.724737",
     "exception": false,
     "start_time": "2022-06-17T20:54:20.401705",
     "status": "completed"
    },
    "tags": []
   },
   "outputs": [
    {
     "name": "stdout",
     "output_type": "stream",
     "text": [
      " Test Accuracy score :  85.71 %\n",
      "Train Accuracy score :  84.68 %\n",
      "----------------------\n",
      "Classification Report\n",
      "----------------------\n",
      "              precision    recall  f1-score   support\n",
      "\n",
      "           0       0.79      0.96      0.87        28\n",
      "           1       0.95      0.75      0.84        28\n",
      "\n",
      "    accuracy                           0.86        56\n",
      "   macro avg       0.87      0.86      0.86        56\n",
      "weighted avg       0.87      0.86      0.86        56\n",
      "\n"
     ]
    },
    {
     "data": {
      "image/png": "[encoded data removed]",
      "text/plain": [
       "<Figure size 360x216 with 2 Axes>"
      ]
     },
     "metadata": {
      "needs_background": "light"
     },
     "output_type": "display_data"
    }
   ],
   "source": [
    "print(\" Test Accuracy score : \",round(lr.score(x_test,y_test)*100,2),\"%\")\n",
    "print(\"Train Accuracy score : \",round(lr.score(x_train,y_train)*100,2),\"%\")\n",
    "print(\"----------------------\")\n",
    "print(\"Classification Report\")\n",
    "print(\"----------------------\")\n",
    "con = confusion_matrix(lr_pred,y_test)\n",
    "plt.figure(figsize=(5,3))\n",
    "sns.heatmap(con, annot=True,cmap=\"YlGnBu\",fmt='g')\n",
    "plt.xlabel('Actual Values')\n",
    "plt.ylabel('Predicted Values')\n",
    "print(classification_report(y_test,lr_pred))"
   ]
  },
  {
   "cell_type": "code",
   "execution_count": 43,
   "id": "de750101",
   "metadata": {
    "execution": {
     "iopub.execute_input": "2022-06-17T20:54:20.785960Z",
     "iopub.status.busy": "2022-06-17T20:54:20.785347Z",
     "iopub.status.idle": "2022-06-17T20:54:20.793641Z",
     "shell.execute_reply": "2022-06-17T20:54:20.792644Z"
    },
    "papermill": {
     "duration": 0.041528,
     "end_time": "2022-06-17T20:54:20.795767",
     "exception": false,
     "start_time": "2022-06-17T20:54:20.754239",
     "status": "completed"
    },
    "tags": []
   },
   "outputs": [
    {
     "data": {
      "text/plain": [
       "0.8571428571428571"
      ]
     },
     "execution_count": 43,
     "metadata": {},
     "output_type": "execute_result"
    }
   ],
   "source": [
    "auc = roc_auc_score(y_test,lr_pred)\n",
    "auc"
   ]
  },
  {
   "cell_type": "code",
   "execution_count": 46,
   "id": "a9d430e8",
   "metadata": {
    "execution": {
     "iopub.execute_input": "2022-06-17T20:54:20.858150Z",
     "iopub.status.busy": "2022-06-17T20:54:20.857388Z",
     "iopub.status.idle": "2022-06-17T20:54:21.124603Z",
     "shell.execute_reply": "2022-06-17T20:54:21.123624Z"
    },
    "papermill": {
     "duration": 0.301944,
     "end_time": "2022-06-17T20:54:21.127152",
     "exception": false,
     "start_time": "2022-06-17T20:54:20.825208",
     "status": "completed"
    },
    "scrolled": true,
    "tags": []
   },
   "outputs": [
    {
     "data": {
      "image/png": "[encoded data removed]",
      "text/plain": [
       "<Figure size 576x360 with 1 Axes>"
      ]
     },
     "metadata": {
      "needs_background": "light"
     },
     "output_type": "display_data"
    }
   ],
   "source": [
    "fpr, tpr, thresholds = roc_curve(y_test,lr_pred)\n",
    "plt.figure(figsize=(8,5))\n",
    "plt.plot(fpr , tpr , color='red',label='ROC')\n",
    "plt.plot([0,1],[0,1],color = 'darkblue',linestyle='--',label='ROC curve(area = %0.2f)'% auc)\n",
    "plt.xlabel('False positive rate')\n",
    "plt.ylabel('True positive rate')\n",
    "plt.title('Receiver Operating Characterstics (ROC) curve')\n",
    "plt.legend()\n",
    "plt.show()"
   ]
  },
  {
   "cell_type": "markdown",
   "id": "b5804645",
   "metadata": {
    "papermill": {
     "duration": 0.031318,
     "end_time": "2022-06-17T20:54:21.189034",
     "exception": false,
     "start_time": "2022-06-17T20:54:21.157716",
     "status": "completed"
    },
    "tags": []
   },
   "source": [
    "# 方法3 Random Forest"
   ]
  },
  {
   "cell_type": "code",
   "execution_count": 47,
   "id": "01eafe72",
   "metadata": {
    "execution": {
     "iopub.execute_input": "2022-06-17T20:54:21.252608Z",
     "iopub.status.busy": "2022-06-17T20:54:21.251932Z",
     "iopub.status.idle": "2022-06-17T20:54:21.482913Z",
     "shell.execute_reply": "2022-06-17T20:54:21.480989Z"
    },
    "papermill": {
     "duration": 0.265747,
     "end_time": "2022-06-17T20:54:21.486014",
     "exception": false,
     "start_time": "2022-06-17T20:54:21.220267",
     "status": "completed"
    },
    "tags": []
   },
   "outputs": [],
   "source": [
    "rfc = RandomForestClassifier(max_depth=4)\n",
    "rfc.fit(x_train, y_train)\n",
    "\n",
    "import pickle\n",
    "#save model\n",
    "f = open('saved_model/rfc.pickle','wb')\n",
    "pickle.dump(rfc,f)\n",
    "f.close()\n",
    "#load model\n",
    "f = open('saved_model/rfc.pickle','rb')\n",
    "rfc1 = pickle.load(f)\n",
    "f.close()"
   ]
  },
  {
   "cell_type": "code",
   "execution_count": 48,
   "id": "815e0487",
   "metadata": {
    "execution": {
     "iopub.execute_input": "2022-06-17T20:54:21.548858Z",
     "iopub.status.busy": "2022-06-17T20:54:21.548405Z",
     "iopub.status.idle": "2022-06-17T20:54:21.574587Z",
     "shell.execute_reply": "2022-06-17T20:54:21.573702Z"
    },
    "papermill": {
     "duration": 0.059229,
     "end_time": "2022-06-17T20:54:21.576792",
     "exception": false,
     "start_time": "2022-06-17T20:54:21.517563",
     "status": "completed"
    },
    "tags": []
   },
   "outputs": [
    {
     "data": {
      "text/html": [
       "<div>\n",
       "<style scoped>\n",
       "    .dataframe tbody tr th:only-of-type {\n",
       "        vertical-align: middle;\n",
       "    }\n",
       "\n",
       "    .dataframe tbody tr th {\n",
       "        vertical-align: top;\n",
       "    }\n",
       "\n",
       "    .dataframe thead th {\n",
       "        text-align: right;\n",
       "    }\n",
       "</style>\n",
       "<table border=\"1\" class=\"dataframe\">\n",
       "  <thead>\n",
       "    <tr style=\"text-align: right;\">\n",
       "      <th></th>\n",
       "      <th>Actual</th>\n",
       "      <th>Predicted</th>\n",
       "    </tr>\n",
       "  </thead>\n",
       "  <tbody>\n",
       "    <tr>\n",
       "      <th>0</th>\n",
       "      <td>1</td>\n",
       "      <td>1</td>\n",
       "    </tr>\n",
       "    <tr>\n",
       "      <th>1</th>\n",
       "      <td>0</td>\n",
       "      <td>0</td>\n",
       "    </tr>\n",
       "    <tr>\n",
       "      <th>2</th>\n",
       "      <td>0</td>\n",
       "      <td>0</td>\n",
       "    </tr>\n",
       "    <tr>\n",
       "      <th>3</th>\n",
       "      <td>0</td>\n",
       "      <td>0</td>\n",
       "    </tr>\n",
       "    <tr>\n",
       "      <th>4</th>\n",
       "      <td>1</td>\n",
       "      <td>0</td>\n",
       "    </tr>\n",
       "  </tbody>\n",
       "</table>\n",
       "</div>"
      ],
      "text/plain": [
       "   Actual  Predicted\n",
       "0       1          1\n",
       "1       0          0\n",
       "2       0          0\n",
       "3       0          0\n",
       "4       1          0"
      ]
     },
     "execution_count": 48,
     "metadata": {},
     "output_type": "execute_result"
    }
   ],
   "source": [
    "rfc_pred = rfc.predict(x_test)\n",
    "pd.DataFrame(np.c_[y_test,rfc_pred],columns=['Actual','Predicted']).head()"
   ]
  },
  {
   "cell_type": "code",
   "execution_count": 49,
   "id": "00ee142a",
   "metadata": {
    "execution": {
     "iopub.execute_input": "2022-06-17T20:54:21.643256Z",
     "iopub.status.busy": "2022-06-17T20:54:21.642450Z",
     "iopub.status.idle": "2022-06-17T20:54:21.931957Z",
     "shell.execute_reply": "2022-06-17T20:54:21.930733Z"
    },
    "papermill": {
     "duration": 0.324702,
     "end_time": "2022-06-17T20:54:21.934351",
     "exception": false,
     "start_time": "2022-06-17T20:54:21.609649",
     "status": "completed"
    },
    "tags": []
   },
   "outputs": [
    {
     "name": "stdout",
     "output_type": "stream",
     "text": [
      " Test Accuracy score :  85.71 %\n",
      "Train Accuracy score :  91.44 %\n",
      "----------------------\n",
      "Classification Report\n",
      "----------------------\n",
      "              precision    recall  f1-score   support\n",
      "\n",
      "           0       0.79      0.96      0.87        28\n",
      "           1       0.95      0.75      0.84        28\n",
      "\n",
      "    accuracy                           0.86        56\n",
      "   macro avg       0.87      0.86      0.86        56\n",
      "weighted avg       0.87      0.86      0.86        56\n",
      "\n"
     ]
    },
    {
     "data": {
      "image/png": "[encoded data removed]",
      "text/plain": [
       "<Figure size 360x216 with 2 Axes>"
      ]
     },
     "metadata": {
      "needs_background": "light"
     },
     "output_type": "display_data"
    }
   ],
   "source": [
    "print(\" Test Accuracy score : \",round(rfc.score(x_test,y_test)*100,2),\"%\")\n",
    "print(\"Train Accuracy score : \",round(rfc.score(x_train,y_train)*100,2),\"%\")\n",
    "clf_con = confusion_matrix(y_test,rfc_pred)\n",
    "print(\"----------------------\")\n",
    "print(\"Classification Report\")\n",
    "print(\"----------------------\")\n",
    "print(classification_report(y_test,rfc_pred))\n",
    "plt.figure(figsize=(5,3))\n",
    "sns.heatmap(clf_con, annot=True,cmap=\"YlGnBu\",fmt='g')\n",
    "plt.xlabel('Actual Values')\n",
    "plt.ylabel('Predicted Values')\n",
    "plt.show()"
   ]
  },
  {
   "cell_type": "code",
   "execution_count": 50,
   "id": "d8bcf621",
   "metadata": {
    "execution": {
     "iopub.execute_input": "2022-06-17T20:54:22.004144Z",
     "iopub.status.busy": "2022-06-17T20:54:22.003598Z",
     "iopub.status.idle": "2022-06-17T20:54:22.013585Z",
     "shell.execute_reply": "2022-06-17T20:54:22.012489Z"
    },
    "papermill": {
     "duration": 0.049981,
     "end_time": "2022-06-17T20:54:22.016253",
     "exception": false,
     "start_time": "2022-06-17T20:54:21.966272",
     "status": "completed"
    },
    "tags": []
   },
   "outputs": [
    {
     "data": {
      "text/plain": [
       "0.8571428571428571"
      ]
     },
     "execution_count": 50,
     "metadata": {},
     "output_type": "execute_result"
    }
   ],
   "source": [
    "auc = roc_auc_score(y_test,rfc_pred)\n",
    "auc"
   ]
  },
  {
   "cell_type": "code",
   "execution_count": 51,
   "id": "4746d078",
   "metadata": {
    "execution": {
     "iopub.execute_input": "2022-06-17T20:54:22.081779Z",
     "iopub.status.busy": "2022-06-17T20:54:22.080665Z",
     "iopub.status.idle": "2022-06-17T20:54:22.334936Z",
     "shell.execute_reply": "2022-06-17T20:54:22.333806Z"
    },
    "papermill": {
     "duration": 0.289449,
     "end_time": "2022-06-17T20:54:22.338050",
     "exception": false,
     "start_time": "2022-06-17T20:54:22.048601",
     "status": "completed"
    },
    "tags": []
   },
   "outputs": [
    {
     "data": {
      "image/png": "[encoded data removed]",
      "text/plain": [
       "<Figure size 576x360 with 1 Axes>"
      ]
     },
     "metadata": {
      "needs_background": "light"
     },
     "output_type": "display_data"
    }
   ],
   "source": [
    "fpr, tpr, thresholds = roc_curve(y_test,rfc_pred)\n",
    "plt.figure(figsize=(8,5))\n",
    "plt.plot(fpr , tpr , color='red',label='ROC')\n",
    "plt.plot([0,1],[0,1],color = 'darkblue',linestyle='--',label='ROC curve(area = %0.2f)'% auc)\n",
    "plt.xlabel('False positive rate')\n",
    "plt.ylabel('True positive rate')\n",
    "plt.title('Receiver Operating Characterstics (ROC) curve')\n",
    "plt.legend()\n",
    "plt.show()"
   ]
  },
  {
   "cell_type": "markdown",
   "id": "341d081b",
   "metadata": {
    "papermill": {
     "duration": 0.033856,
     "end_time": "2022-06-17T20:54:22.406876",
     "exception": false,
     "start_time": "2022-06-17T20:54:22.373020",
     "status": "completed"
    },
    "tags": []
   },
   "source": [
    "# Model Comparison"
   ]
  },
  {
   "cell_type": "code",
   "execution_count": 52,
   "id": "432b170b",
   "metadata": {
    "execution": {
     "iopub.execute_input": "2022-06-17T20:54:22.472595Z",
     "iopub.status.busy": "2022-06-17T20:54:22.471907Z",
     "iopub.status.idle": "2022-06-17T20:54:22.517954Z",
     "shell.execute_reply": "2022-06-17T20:54:22.516817Z"
    },
    "papermill": {
     "duration": 0.082,
     "end_time": "2022-06-17T20:54:22.520466",
     "exception": false,
     "start_time": "2022-06-17T20:54:22.438466",
     "status": "completed"
    },
    "tags": []
   },
   "outputs": [
    {
     "data": {
      "text/html": [
       "<div>\n",
       "<style scoped>\n",
       "    .dataframe tbody tr th:only-of-type {\n",
       "        vertical-align: middle;\n",
       "    }\n",
       "\n",
       "    .dataframe tbody tr th {\n",
       "        vertical-align: top;\n",
       "    }\n",
       "\n",
       "    .dataframe thead th {\n",
       "        text-align: right;\n",
       "    }\n",
       "</style>\n",
       "<table border=\"1\" class=\"dataframe\">\n",
       "  <thead>\n",
       "    <tr style=\"text-align: right;\">\n",
       "      <th></th>\n",
       "      <th>Models</th>\n",
       "      <th>Test Accuracy</th>\n",
       "      <th>Train Accuracy</th>\n",
       "    </tr>\n",
       "  </thead>\n",
       "  <tbody>\n",
       "    <tr>\n",
       "      <th>1</th>\n",
       "      <td>Logistic Regression</td>\n",
       "      <td>85.71</td>\n",
       "      <td>84.68</td>\n",
       "    </tr>\n",
       "    <tr>\n",
       "      <th>2</th>\n",
       "      <td>Random Forest</td>\n",
       "      <td>85.71</td>\n",
       "      <td>91.44</td>\n",
       "    </tr>\n",
       "    <tr>\n",
       "      <th>0</th>\n",
       "      <td>decision Tree</td>\n",
       "      <td>67.86</td>\n",
       "      <td>100.00</td>\n",
       "    </tr>\n",
       "  </tbody>\n",
       "</table>\n",
       "</div>"
      ],
      "text/plain": [
       "                Models  Test Accuracy  Train Accuracy\n",
       "1  Logistic Regression          85.71           84.68\n",
       "2        Random Forest          85.71           91.44\n",
       "0        decision Tree          67.86          100.00"
      ]
     },
     "execution_count": 52,
     "metadata": {},
     "output_type": "execute_result"
    }
   ],
   "source": [
    "data = { 'Models' : ['decision Tree','Logistic Regression','Random Forest'],\n",
    "         'Test Accuracy' : [round(DT.score(x_test,y_test)*100,2),round(lr.score(x_test,y_test)*100,2), round(rfc.score(x_test,y_test)*100,2)],\n",
    "         'Train Accuracy': [round(DT.score(x_train,y_train)*100,2), round(lr.score(x_train,y_train)*100,2),round(rfc.score(x_train,y_train)*100,2)],\n",
    "       }\n",
    "\n",
    "df = pd.DataFrame(data)\n",
    "df.sort_values(by='Test Accuracy',ascending=False)"
   ]
  },
  {
   "cell_type": "code",
   "execution_count": 53,
   "id": "81f809a4",
   "metadata": {
    "execution": {
     "iopub.execute_input": "2022-06-17T20:54:22.587292Z",
     "iopub.status.busy": "2022-06-17T20:54:22.585685Z",
     "iopub.status.idle": "2022-06-17T20:54:22.785046Z",
     "shell.execute_reply": "2022-06-17T20:54:22.783732Z"
    },
    "papermill": {
     "duration": 0.235835,
     "end_time": "2022-06-17T20:54:22.788257",
     "exception": false,
     "start_time": "2022-06-17T20:54:22.552422",
     "status": "completed"
    },
    "tags": []
   },
   "outputs": [
    {
     "data": {
      "image/png": "[encoded data removed]",
      "text/plain": [
       "<Figure size 360x432 with 1 Axes>"
      ]
     },
     "metadata": {
      "needs_background": "light"
     },
     "output_type": "display_data"
    }
   ],
   "source": [
    "plt.figure(figsize = (5,6))\n",
    "sns.barplot(x='Models', y='Test Accuracy',data=df)\n",
    "plt.show()"
   ]
  },
  {
   "cell_type": "markdown",
   "id": "ef7780ec",
   "metadata": {
    "papermill": {
     "duration": 0.031268,
     "end_time": "2022-06-17T20:54:22.852152",
     "exception": false,
     "start_time": "2022-06-17T20:54:22.820884",
     "status": "completed"
    },
    "tags": []
   },
   "source": [
    "## Data Testing"
   ]
  },
  {
   "cell_type": "code",
   "execution_count": 54,
   "id": "47e1d72c",
   "metadata": {
    "execution": {
     "iopub.execute_input": "2022-06-17T20:54:22.922774Z",
     "iopub.status.busy": "2022-06-17T20:54:22.921670Z",
     "iopub.status.idle": "2022-06-17T20:54:22.948760Z",
     "shell.execute_reply": "2022-06-17T20:54:22.947213Z"
    },
    "papermill": {
     "duration": 0.06705,
     "end_time": "2022-06-17T20:54:22.952071",
     "exception": false,
     "start_time": "2022-06-17T20:54:22.885021",
     "status": "completed"
    },
    "tags": []
   },
   "outputs": [
    {
     "data": {
      "text/html": [
       "<div>\n",
       "<style scoped>\n",
       "    .dataframe tbody tr th:only-of-type {\n",
       "        vertical-align: middle;\n",
       "    }\n",
       "\n",
       "    .dataframe tbody tr th {\n",
       "        vertical-align: top;\n",
       "    }\n",
       "\n",
       "    .dataframe thead th {\n",
       "        text-align: right;\n",
       "    }\n",
       "</style>\n",
       "<table border=\"1\" class=\"dataframe\">\n",
       "  <thead>\n",
       "    <tr style=\"text-align: right;\">\n",
       "      <th></th>\n",
       "      <th>age</th>\n",
       "      <th>sex</th>\n",
       "      <th>cp</th>\n",
       "      <th>trestbps</th>\n",
       "      <th>chol</th>\n",
       "      <th>fbs</th>\n",
       "      <th>restecg</th>\n",
       "      <th>thalach</th>\n",
       "      <th>exang</th>\n",
       "      <th>oldpeak</th>\n",
       "      <th>slope</th>\n",
       "      <th>ca</th>\n",
       "      <th>thal</th>\n",
       "      <th>target</th>\n",
       "    </tr>\n",
       "  </thead>\n",
       "  <tbody>\n",
       "    <tr>\n",
       "      <th>0</th>\n",
       "      <td>63</td>\n",
       "      <td>1</td>\n",
       "      <td>1</td>\n",
       "      <td>145</td>\n",
       "      <td>233</td>\n",
       "      <td>1</td>\n",
       "      <td>2</td>\n",
       "      <td>150</td>\n",
       "      <td>0</td>\n",
       "      <td>2.3</td>\n",
       "      <td>3</td>\n",
       "      <td>0</td>\n",
       "      <td>1</td>\n",
       "      <td>0</td>\n",
       "    </tr>\n",
       "    <tr>\n",
       "      <th>1</th>\n",
       "      <td>67</td>\n",
       "      <td>1</td>\n",
       "      <td>4</td>\n",
       "      <td>160</td>\n",
       "      <td>286</td>\n",
       "      <td>0</td>\n",
       "      <td>2</td>\n",
       "      <td>108</td>\n",
       "      <td>1</td>\n",
       "      <td>1.5</td>\n",
       "      <td>2</td>\n",
       "      <td>3</td>\n",
       "      <td>0</td>\n",
       "      <td>1</td>\n",
       "    </tr>\n",
       "    <tr>\n",
       "      <th>2</th>\n",
       "      <td>67</td>\n",
       "      <td>1</td>\n",
       "      <td>4</td>\n",
       "      <td>120</td>\n",
       "      <td>229</td>\n",
       "      <td>0</td>\n",
       "      <td>2</td>\n",
       "      <td>129</td>\n",
       "      <td>1</td>\n",
       "      <td>2.6</td>\n",
       "      <td>2</td>\n",
       "      <td>2</td>\n",
       "      <td>2</td>\n",
       "      <td>1</td>\n",
       "    </tr>\n",
       "    <tr>\n",
       "      <th>3</th>\n",
       "      <td>37</td>\n",
       "      <td>1</td>\n",
       "      <td>3</td>\n",
       "      <td>130</td>\n",
       "      <td>250</td>\n",
       "      <td>0</td>\n",
       "      <td>0</td>\n",
       "      <td>187</td>\n",
       "      <td>0</td>\n",
       "      <td>3.5</td>\n",
       "      <td>3</td>\n",
       "      <td>0</td>\n",
       "      <td>0</td>\n",
       "      <td>0</td>\n",
       "    </tr>\n",
       "    <tr>\n",
       "      <th>4</th>\n",
       "      <td>41</td>\n",
       "      <td>0</td>\n",
       "      <td>2</td>\n",
       "      <td>130</td>\n",
       "      <td>204</td>\n",
       "      <td>0</td>\n",
       "      <td>2</td>\n",
       "      <td>172</td>\n",
       "      <td>0</td>\n",
       "      <td>1.4</td>\n",
       "      <td>1</td>\n",
       "      <td>0</td>\n",
       "      <td>0</td>\n",
       "      <td>0</td>\n",
       "    </tr>\n",
       "    <tr>\n",
       "      <th>5</th>\n",
       "      <td>56</td>\n",
       "      <td>1</td>\n",
       "      <td>2</td>\n",
       "      <td>120</td>\n",
       "      <td>236</td>\n",
       "      <td>0</td>\n",
       "      <td>0</td>\n",
       "      <td>178</td>\n",
       "      <td>0</td>\n",
       "      <td>0.8</td>\n",
       "      <td>1</td>\n",
       "      <td>0</td>\n",
       "      <td>0</td>\n",
       "      <td>0</td>\n",
       "    </tr>\n",
       "    <tr>\n",
       "      <th>6</th>\n",
       "      <td>62</td>\n",
       "      <td>0</td>\n",
       "      <td>4</td>\n",
       "      <td>140</td>\n",
       "      <td>268</td>\n",
       "      <td>0</td>\n",
       "      <td>2</td>\n",
       "      <td>160</td>\n",
       "      <td>0</td>\n",
       "      <td>3.6</td>\n",
       "      <td>3</td>\n",
       "      <td>2</td>\n",
       "      <td>0</td>\n",
       "      <td>1</td>\n",
       "    </tr>\n",
       "    <tr>\n",
       "      <th>7</th>\n",
       "      <td>57</td>\n",
       "      <td>0</td>\n",
       "      <td>4</td>\n",
       "      <td>120</td>\n",
       "      <td>354</td>\n",
       "      <td>0</td>\n",
       "      <td>0</td>\n",
       "      <td>163</td>\n",
       "      <td>1</td>\n",
       "      <td>0.6</td>\n",
       "      <td>1</td>\n",
       "      <td>0</td>\n",
       "      <td>0</td>\n",
       "      <td>0</td>\n",
       "    </tr>\n",
       "    <tr>\n",
       "      <th>8</th>\n",
       "      <td>63</td>\n",
       "      <td>1</td>\n",
       "      <td>4</td>\n",
       "      <td>130</td>\n",
       "      <td>254</td>\n",
       "      <td>0</td>\n",
       "      <td>2</td>\n",
       "      <td>147</td>\n",
       "      <td>0</td>\n",
       "      <td>1.4</td>\n",
       "      <td>2</td>\n",
       "      <td>1</td>\n",
       "      <td>2</td>\n",
       "      <td>1</td>\n",
       "    </tr>\n",
       "    <tr>\n",
       "      <th>9</th>\n",
       "      <td>53</td>\n",
       "      <td>1</td>\n",
       "      <td>4</td>\n",
       "      <td>140</td>\n",
       "      <td>203</td>\n",
       "      <td>1</td>\n",
       "      <td>2</td>\n",
       "      <td>155</td>\n",
       "      <td>1</td>\n",
       "      <td>3.1</td>\n",
       "      <td>3</td>\n",
       "      <td>0</td>\n",
       "      <td>2</td>\n",
       "      <td>1</td>\n",
       "    </tr>\n",
       "    <tr>\n",
       "      <th>10</th>\n",
       "      <td>57</td>\n",
       "      <td>1</td>\n",
       "      <td>4</td>\n",
       "      <td>140</td>\n",
       "      <td>192</td>\n",
       "      <td>0</td>\n",
       "      <td>0</td>\n",
       "      <td>148</td>\n",
       "      <td>0</td>\n",
       "      <td>0.4</td>\n",
       "      <td>2</td>\n",
       "      <td>0</td>\n",
       "      <td>1</td>\n",
       "      <td>0</td>\n",
       "    </tr>\n",
       "    <tr>\n",
       "      <th>11</th>\n",
       "      <td>56</td>\n",
       "      <td>0</td>\n",
       "      <td>2</td>\n",
       "      <td>140</td>\n",
       "      <td>294</td>\n",
       "      <td>0</td>\n",
       "      <td>2</td>\n",
       "      <td>153</td>\n",
       "      <td>0</td>\n",
       "      <td>1.3</td>\n",
       "      <td>2</td>\n",
       "      <td>0</td>\n",
       "      <td>0</td>\n",
       "      <td>0</td>\n",
       "    </tr>\n",
       "    <tr>\n",
       "      <th>12</th>\n",
       "      <td>56</td>\n",
       "      <td>1</td>\n",
       "      <td>3</td>\n",
       "      <td>130</td>\n",
       "      <td>256</td>\n",
       "      <td>1</td>\n",
       "      <td>2</td>\n",
       "      <td>142</td>\n",
       "      <td>1</td>\n",
       "      <td>0.6</td>\n",
       "      <td>2</td>\n",
       "      <td>1</td>\n",
       "      <td>1</td>\n",
       "      <td>1</td>\n",
       "    </tr>\n",
       "    <tr>\n",
       "      <th>13</th>\n",
       "      <td>44</td>\n",
       "      <td>1</td>\n",
       "      <td>2</td>\n",
       "      <td>120</td>\n",
       "      <td>263</td>\n",
       "      <td>0</td>\n",
       "      <td>0</td>\n",
       "      <td>173</td>\n",
       "      <td>0</td>\n",
       "      <td>0.0</td>\n",
       "      <td>1</td>\n",
       "      <td>0</td>\n",
       "      <td>2</td>\n",
       "      <td>0</td>\n",
       "    </tr>\n",
       "    <tr>\n",
       "      <th>15</th>\n",
       "      <td>57</td>\n",
       "      <td>1</td>\n",
       "      <td>3</td>\n",
       "      <td>150</td>\n",
       "      <td>168</td>\n",
       "      <td>0</td>\n",
       "      <td>0</td>\n",
       "      <td>174</td>\n",
       "      <td>0</td>\n",
       "      <td>1.6</td>\n",
       "      <td>1</td>\n",
       "      <td>0</td>\n",
       "      <td>0</td>\n",
       "      <td>0</td>\n",
       "    </tr>\n",
       "    <tr>\n",
       "      <th>16</th>\n",
       "      <td>48</td>\n",
       "      <td>1</td>\n",
       "      <td>2</td>\n",
       "      <td>110</td>\n",
       "      <td>229</td>\n",
       "      <td>0</td>\n",
       "      <td>0</td>\n",
       "      <td>168</td>\n",
       "      <td>0</td>\n",
       "      <td>1.0</td>\n",
       "      <td>3</td>\n",
       "      <td>0</td>\n",
       "      <td>2</td>\n",
       "      <td>1</td>\n",
       "    </tr>\n",
       "    <tr>\n",
       "      <th>17</th>\n",
       "      <td>54</td>\n",
       "      <td>1</td>\n",
       "      <td>4</td>\n",
       "      <td>140</td>\n",
       "      <td>239</td>\n",
       "      <td>0</td>\n",
       "      <td>0</td>\n",
       "      <td>160</td>\n",
       "      <td>0</td>\n",
       "      <td>1.2</td>\n",
       "      <td>1</td>\n",
       "      <td>0</td>\n",
       "      <td>0</td>\n",
       "      <td>0</td>\n",
       "    </tr>\n",
       "    <tr>\n",
       "      <th>18</th>\n",
       "      <td>48</td>\n",
       "      <td>0</td>\n",
       "      <td>3</td>\n",
       "      <td>130</td>\n",
       "      <td>275</td>\n",
       "      <td>0</td>\n",
       "      <td>0</td>\n",
       "      <td>139</td>\n",
       "      <td>0</td>\n",
       "      <td>0.2</td>\n",
       "      <td>1</td>\n",
       "      <td>0</td>\n",
       "      <td>0</td>\n",
       "      <td>0</td>\n",
       "    </tr>\n",
       "    <tr>\n",
       "      <th>19</th>\n",
       "      <td>49</td>\n",
       "      <td>1</td>\n",
       "      <td>2</td>\n",
       "      <td>130</td>\n",
       "      <td>266</td>\n",
       "      <td>0</td>\n",
       "      <td>0</td>\n",
       "      <td>171</td>\n",
       "      <td>0</td>\n",
       "      <td>0.6</td>\n",
       "      <td>1</td>\n",
       "      <td>0</td>\n",
       "      <td>0</td>\n",
       "      <td>0</td>\n",
       "    </tr>\n",
       "    <tr>\n",
       "      <th>20</th>\n",
       "      <td>64</td>\n",
       "      <td>1</td>\n",
       "      <td>1</td>\n",
       "      <td>110</td>\n",
       "      <td>211</td>\n",
       "      <td>0</td>\n",
       "      <td>2</td>\n",
       "      <td>144</td>\n",
       "      <td>1</td>\n",
       "      <td>1.8</td>\n",
       "      <td>2</td>\n",
       "      <td>0</td>\n",
       "      <td>0</td>\n",
       "      <td>0</td>\n",
       "    </tr>\n",
       "    <tr>\n",
       "      <th>21</th>\n",
       "      <td>58</td>\n",
       "      <td>0</td>\n",
       "      <td>1</td>\n",
       "      <td>150</td>\n",
       "      <td>283</td>\n",
       "      <td>1</td>\n",
       "      <td>2</td>\n",
       "      <td>162</td>\n",
       "      <td>0</td>\n",
       "      <td>1.0</td>\n",
       "      <td>1</td>\n",
       "      <td>0</td>\n",
       "      <td>0</td>\n",
       "      <td>0</td>\n",
       "    </tr>\n",
       "    <tr>\n",
       "      <th>22</th>\n",
       "      <td>58</td>\n",
       "      <td>1</td>\n",
       "      <td>2</td>\n",
       "      <td>120</td>\n",
       "      <td>284</td>\n",
       "      <td>0</td>\n",
       "      <td>2</td>\n",
       "      <td>160</td>\n",
       "      <td>0</td>\n",
       "      <td>1.8</td>\n",
       "      <td>2</td>\n",
       "      <td>0</td>\n",
       "      <td>0</td>\n",
       "      <td>1</td>\n",
       "    </tr>\n",
       "    <tr>\n",
       "      <th>23</th>\n",
       "      <td>58</td>\n",
       "      <td>1</td>\n",
       "      <td>3</td>\n",
       "      <td>132</td>\n",
       "      <td>224</td>\n",
       "      <td>0</td>\n",
       "      <td>2</td>\n",
       "      <td>173</td>\n",
       "      <td>0</td>\n",
       "      <td>3.2</td>\n",
       "      <td>1</td>\n",
       "      <td>2</td>\n",
       "      <td>2</td>\n",
       "      <td>1</td>\n",
       "    </tr>\n",
       "    <tr>\n",
       "      <th>24</th>\n",
       "      <td>60</td>\n",
       "      <td>1</td>\n",
       "      <td>4</td>\n",
       "      <td>130</td>\n",
       "      <td>206</td>\n",
       "      <td>0</td>\n",
       "      <td>2</td>\n",
       "      <td>132</td>\n",
       "      <td>1</td>\n",
       "      <td>2.4</td>\n",
       "      <td>2</td>\n",
       "      <td>2</td>\n",
       "      <td>2</td>\n",
       "      <td>1</td>\n",
       "    </tr>\n",
       "    <tr>\n",
       "      <th>25</th>\n",
       "      <td>50</td>\n",
       "      <td>0</td>\n",
       "      <td>3</td>\n",
       "      <td>120</td>\n",
       "      <td>219</td>\n",
       "      <td>0</td>\n",
       "      <td>0</td>\n",
       "      <td>158</td>\n",
       "      <td>0</td>\n",
       "      <td>1.6</td>\n",
       "      <td>2</td>\n",
       "      <td>0</td>\n",
       "      <td>0</td>\n",
       "      <td>0</td>\n",
       "    </tr>\n",
       "  </tbody>\n",
       "</table>\n",
       "</div>"
      ],
      "text/plain": [
       "    age  sex  cp  trestbps  chol  fbs  restecg  thalach  exang  oldpeak  \\\n",
       "0    63    1   1       145   233    1        2      150      0      2.3   \n",
       "1    67    1   4       160   286    0        2      108      1      1.5   \n",
       "2    67    1   4       120   229    0        2      129      1      2.6   \n",
       "3    37    1   3       130   250    0        0      187      0      3.5   \n",
       "4    41    0   2       130   204    0        2      172      0      1.4   \n",
       "5    56    1   2       120   236    0        0      178      0      0.8   \n",
       "6    62    0   4       140   268    0        2      160      0      3.6   \n",
       "7    57    0   4       120   354    0        0      163      1      0.6   \n",
       "8    63    1   4       130   254    0        2      147      0      1.4   \n",
       "9    53    1   4       140   203    1        2      155      1      3.1   \n",
       "10   57    1   4       140   192    0        0      148      0      0.4   \n",
       "11   56    0   2       140   294    0        2      153      0      1.3   \n",
       "12   56    1   3       130   256    1        2      142      1      0.6   \n",
       "13   44    1   2       120   263    0        0      173      0      0.0   \n",
       "15   57    1   3       150   168    0        0      174      0      1.6   \n",
       "16   48    1   2       110   229    0        0      168      0      1.0   \n",
       "17   54    1   4       140   239    0        0      160      0      1.2   \n",
       "18   48    0   3       130   275    0        0      139      0      0.2   \n",
       "19   49    1   2       130   266    0        0      171      0      0.6   \n",
       "20   64    1   1       110   211    0        2      144      1      1.8   \n",
       "21   58    0   1       150   283    1        2      162      0      1.0   \n",
       "22   58    1   2       120   284    0        2      160      0      1.8   \n",
       "23   58    1   3       132   224    0        2      173      0      3.2   \n",
       "24   60    1   4       130   206    0        2      132      1      2.4   \n",
       "25   50    0   3       120   219    0        0      158      0      1.6   \n",
       "\n",
       "    slope  ca  thal  target  \n",
       "0       3   0     1       0  \n",
       "1       2   3     0       1  \n",
       "2       2   2     2       1  \n",
       "3       3   0     0       0  \n",
       "4       1   0     0       0  \n",
       "5       1   0     0       0  \n",
       "6       3   2     0       1  \n",
       "7       1   0     0       0  \n",
       "8       2   1     2       1  \n",
       "9       3   0     2       1  \n",
       "10      2   0     1       0  \n",
       "11      2   0     0       0  \n",
       "12      2   1     1       1  \n",
       "13      1   0     2       0  \n",
       "15      1   0     0       0  \n",
       "16      3   0     2       1  \n",
       "17      1   0     0       0  \n",
       "18      1   0     0       0  \n",
       "19      1   0     0       0  \n",
       "20      2   0     0       0  \n",
       "21      1   0     0       0  \n",
       "22      2   0     0       1  \n",
       "23      1   2     2       1  \n",
       "24      2   2     2       1  \n",
       "25      2   0     0       0  "
      ]
     },
     "execution_count": 54,
     "metadata": {},
     "output_type": "execute_result"
    }
   ],
   "source": [
    "data2.head(25)"
   ]
  },
  {
   "cell_type": "code",
   "execution_count": 55,
   "id": "7e7a2772",
   "metadata": {
    "execution": {
     "iopub.execute_input": "2022-06-17T20:54:23.031887Z",
     "iopub.status.busy": "2022-06-17T20:54:23.030501Z",
     "iopub.status.idle": "2022-06-17T20:54:23.062878Z",
     "shell.execute_reply": "2022-06-17T20:54:23.061976Z"
    },
    "papermill": {
     "duration": 0.076289,
     "end_time": "2022-06-17T20:54:23.066667",
     "exception": false,
     "start_time": "2022-06-17T20:54:22.990378",
     "status": "completed"
    },
    "tags": []
   },
   "outputs": [
    {
     "name": "stdout",
     "output_type": "stream",
     "text": [
      "预测sample1： ->->->->->->->->->->->->->->->->->->->-> [45, 1, 0, 104, 208, 0, 0, 148, 1, 3.0, 1, 0, 2]\n",
      " [WARNING] 检测到心脏病\n"
     ]
    }
   ],
   "source": [
    "\n",
    "sample1 = [45,1,0,104,208,0,0,148,1,3.0,1,0,2]\n",
    "print('预测sample1：','->'*20, sample1)\n",
    "if rfc.predict([sample1]) == 0:\n",
    "    print('[SAFE] 未检测到心脏病')\n",
    "else:\n",
    "    print(' [WARNING] 检测到心脏病')"
   ]
  },
  {
   "cell_type": "code",
   "execution_count": 56,
   "id": "21d82ae8",
   "metadata": {
    "execution": {
     "iopub.execute_input": "2022-06-17T20:54:23.168791Z",
     "iopub.status.busy": "2022-06-17T20:54:23.167950Z",
     "iopub.status.idle": "2022-06-17T20:54:23.175848Z",
     "shell.execute_reply": "2022-06-17T20:54:23.174574Z"
    },
    "papermill": {
     "duration": 0.063807,
     "end_time": "2022-06-17T20:54:23.180724",
     "exception": false,
     "start_time": "2022-06-17T20:54:23.116917",
     "status": "completed"
    },
    "tags": []
   },
   "outputs": [],
   "source": [
    "# sample2 = [45,1,0,104,208,0,0,148,1,3.0,1,0,2]\n",
    "# if lr.predict([sample2]) == 0:\n",
    "#     print('[SAFE] [SAFE] 未检测到心脏病')\n",
    "# else:\n",
    "#     print(' [WARNING] [SAFE] 检测到心脏病')"
   ]
  },
  {
   "cell_type": "code",
   "execution_count": null,
   "id": "d2fd01d1",
   "metadata": {},
   "outputs": [],
   "source": []
  },
  {
   "cell_type": "code",
   "execution_count": null,
   "id": "45f9af39",
   "metadata": {},
   "outputs": [],
   "source": []
  }
 ],
 "metadata": {
  "kernelspec": {
   "display_name": "Python 3 (ipykernel)",
   "language": "python",
   "name": "python3"
  },
  "language_info": {
   "codemirror_mode": {
    "name": "ipython",
    "version": 3
   },
   "file_extension": ".py",
   "mimetype": "text/x-python",
   "name": "python",
   "nbconvert_exporter": "python",
   "pygments_lexer": "ipython3",
   "version": "3.8.9"
  },
  "papermill": {
   "default_parameters": {},
   "duration": 30.293134,
   "end_time": "2022-06-17T20:54:24.745773",
   "environment_variables": {},
   "exception": null,
   "input_path": "__notebook__.ipynb",
   "output_path": "__notebook__.ipynb",
   "parameters": {},
   "start_time": "2022-06-17T20:53:54.452639",
   "version": "2.3.4"
  }
 },
 "nbformat": 4,
 "nbformat_minor": 5
}
