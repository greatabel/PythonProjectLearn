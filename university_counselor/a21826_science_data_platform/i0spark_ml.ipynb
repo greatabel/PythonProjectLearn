{
 "cells": [
  {
   "cell_type": "markdown",
   "id": "prompt-classification",
   "metadata": {},
   "source": [
    "#  科学数据共享平台数据集分析\n",
    "\n",
    "## 健康数据集分析"
   ]
  },
  {
   "cell_type": "code",
   "execution_count": 44,
   "id": "433e722c",
   "metadata": {},
   "outputs": [
    {
     "name": "stdout",
     "output_type": "stream",
     "text": [
      "Loading data from mydataset_sample/health_data.csv\n"
     ]
    }
   ],
   "source": [
    "from pyspark import SparkContext, SparkConf\n",
    "from pyspark.sql import HiveContext, Row\n",
    "from pyspark.sql.types import IntegerType\n",
    "import json\n",
    "import sys\n",
    "import pandas as pd\n",
    "\n",
    "\n",
    "inputFile = 'mydataset_sample/health_data.csv'\n",
    "\n",
    "conf = SparkConf().setAppName(\"SparkSQLAirTransit\")\n",
    "SparkConf().set(\"spark.sql.legacy.timeParserPolicy\",\"LEGACY\")\n",
    "\n",
    "sc = SparkContext.getOrCreate(conf=conf)\n",
    "hiveCtx = HiveContext(sc)\n",
    "print(\"Loading data from \" + inputFile)"
   ]
  },
  {
   "cell_type": "code",
   "execution_count": 45,
   "id": "954d3852",
   "metadata": {},
   "outputs": [
    {
     "name": "stdout",
     "output_type": "stream",
     "text": [
      "root\n",
      " |-- age: integer (nullable = true)\n",
      " |-- bmi: integer (nullable = true)\n",
      " |-- drink: integer (nullable = true)\n",
      " |-- heart_disease: integer (nullable = true)\n",
      " |-- diabetes: integer (nullable = true)\n",
      "\n"
     ]
    }
   ],
   "source": [
    "df = hiveCtx.read.option(\"header\",True).csv(inputFile,inferSchema =True)\n",
    "df.printSchema()"
   ]
  },
  {
   "cell_type": "code",
   "execution_count": 46,
   "id": "c36ca263",
   "metadata": {},
   "outputs": [
    {
     "name": "stdout",
     "output_type": "stream",
     "text": [
      "查看据据sample,进行数据索索\n"
     ]
    },
    {
     "data": {
      "text/html": [
       "<div>\n",
       "<style scoped>\n",
       "    .dataframe tbody tr th:only-of-type {\n",
       "        vertical-align: middle;\n",
       "    }\n",
       "\n",
       "    .dataframe tbody tr th {\n",
       "        vertical-align: top;\n",
       "    }\n",
       "\n",
       "    .dataframe thead th {\n",
       "        text-align: right;\n",
       "    }\n",
       "</style>\n",
       "<table border=\"1\" class=\"dataframe\">\n",
       "  <thead>\n",
       "    <tr style=\"text-align: right;\">\n",
       "      <th></th>\n",
       "      <th>0</th>\n",
       "      <th>1</th>\n",
       "      <th>2</th>\n",
       "      <th>3</th>\n",
       "      <th>4</th>\n",
       "      <th>5</th>\n",
       "      <th>6</th>\n",
       "      <th>7</th>\n",
       "      <th>8</th>\n",
       "      <th>9</th>\n",
       "    </tr>\n",
       "  </thead>\n",
       "  <tbody>\n",
       "    <tr>\n",
       "      <th>age</th>\n",
       "      <td>89</td>\n",
       "      <td>87</td>\n",
       "      <td>82</td>\n",
       "      <td>76</td>\n",
       "      <td>68</td>\n",
       "      <td>81</td>\n",
       "      <td>87</td>\n",
       "      <td>75</td>\n",
       "      <td>60</td>\n",
       "      <td>90</td>\n",
       "    </tr>\n",
       "    <tr>\n",
       "      <th>bmi</th>\n",
       "      <td>23</td>\n",
       "      <td>29</td>\n",
       "      <td>30</td>\n",
       "      <td>20</td>\n",
       "      <td>24</td>\n",
       "      <td>11</td>\n",
       "      <td>23</td>\n",
       "      <td>22</td>\n",
       "      <td>14</td>\n",
       "      <td>29</td>\n",
       "    </tr>\n",
       "    <tr>\n",
       "      <th>drink</th>\n",
       "      <td>0</td>\n",
       "      <td>0</td>\n",
       "      <td>0</td>\n",
       "      <td>1</td>\n",
       "      <td>1</td>\n",
       "      <td>1</td>\n",
       "      <td>0</td>\n",
       "      <td>1</td>\n",
       "      <td>0</td>\n",
       "      <td>0</td>\n",
       "    </tr>\n",
       "    <tr>\n",
       "      <th>heart_disease</th>\n",
       "      <td>0</td>\n",
       "      <td>1</td>\n",
       "      <td>0</td>\n",
       "      <td>1</td>\n",
       "      <td>0</td>\n",
       "      <td>1</td>\n",
       "      <td>0</td>\n",
       "      <td>1</td>\n",
       "      <td>0</td>\n",
       "      <td>1</td>\n",
       "    </tr>\n",
       "    <tr>\n",
       "      <th>diabetes</th>\n",
       "      <td>1</td>\n",
       "      <td>0</td>\n",
       "      <td>1</td>\n",
       "      <td>0</td>\n",
       "      <td>1</td>\n",
       "      <td>1</td>\n",
       "      <td>1</td>\n",
       "      <td>0</td>\n",
       "      <td>1</td>\n",
       "      <td>1</td>\n",
       "    </tr>\n",
       "  </tbody>\n",
       "</table>\n",
       "</div>"
      ],
      "text/plain": [
       "                0   1   2   3   4   5   6   7   8   9\n",
       "age            89  87  82  76  68  81  87  75  60  90\n",
       "bmi            23  29  30  20  24  11  23  22  14  29\n",
       "drink           0   0   0   1   1   1   0   1   0   0\n",
       "heart_disease   0   1   0   1   0   1   0   1   0   1\n",
       "diabetes        1   0   1   0   1   1   1   0   1   1"
      ]
     },
     "execution_count": 46,
     "metadata": {},
     "output_type": "execute_result"
    }
   ],
   "source": [
    "print('查看据据sample,进行数据索索')\n",
    "pd.DataFrame(df.take(10), columns=df.columns).transpose()"
   ]
  },
  {
   "cell_type": "code",
   "execution_count": 47,
   "id": "downtown-tiffany",
   "metadata": {},
   "outputs": [
    {
     "name": "stdout",
     "output_type": "stream",
     "text": [
      "相性性分析\n"
     ]
    },
    {
     "data": {
      "image/png": "[encoded data removed]",
      "text/plain": [
       "<Figure size 360x360 with 25 Axes>"
      ]
     },
     "metadata": {
      "needs_background": "light"
     },
     "output_type": "display_data"
    }
   ],
   "source": [
    "numeric_features = [t[0] for t in df.dtypes if t[1] == 'int']\n",
    "df.select(numeric_features).describe().toPandas().transpose()\n",
    "\n",
    "print('相性性分析')\n",
    "numeric_data = df.select(numeric_features).toPandas()\n",
    "axs = pd.plotting.scatter_matrix(numeric_data, figsize=(5, 5));\n",
    "n = len(numeric_data.columns)\n",
    "for i in range(n):\n",
    "    v = axs[i, 0]\n",
    "    v.yaxis.label.set_rotation(0)\n",
    "    v.yaxis.label.set_ha('right')\n",
    "    v.set_yticks(())\n",
    "    h = axs[n-1, i]\n",
    "    h.xaxis.label.set_rotation(90)\n",
    "    h.set_xticks(())"
   ]
  },
  {
   "cell_type": "code",
   "execution_count": 48,
   "id": "passive-coffee",
   "metadata": {},
   "outputs": [],
   "source": [
    "from pyspark.ml.feature import OneHotEncoder, StringIndexer, VectorAssembler\n",
    "categoricalColumns = ['age','bmi','drink','diabetes']\n",
    "stages = []\n",
    "# for categoricalCol in categoricalColumns:\n",
    "#     stringIndexer = StringIndexer(inputCol = categoricalCol, outputCol = categoricalCol + 'Index')\n",
    "#     encoder = OneHotEncoder(inputCols=[stringIndexer.getOutputCol()], outputCols=[categoricalCol + \"classVec\"])\n",
    "#     stages += [stringIndexer, encoder]\n",
    "label_stringIdx = StringIndexer(inputCol = 'heart_disease', outputCol = 'label')\n",
    "stages += [label_stringIdx]\n",
    "numericCols = categoricalColumns\n",
    "assemblerInputs = numericCols\n",
    "assembler = VectorAssembler(inputCols=assemblerInputs, outputCol=\"features\")\n",
    "stages += [assembler]\n"
   ]
  },
  {
   "cell_type": "code",
   "execution_count": 49,
   "id": "supreme-edwards",
   "metadata": {},
   "outputs": [],
   "source": [
    "\n",
    "from pyspark.ml import Pipeline\n",
    "cols = df.columns\n",
    "pipeline = Pipeline(stages = stages)\n",
    "pipelineModel = pipeline.fit(df)\n",
    "df = pipelineModel.transform(df)\n",
    "selectedCols = ['label', 'features'] + cols\n",
    "df = df.select(selectedCols)"
   ]
  },
  {
   "cell_type": "code",
   "execution_count": 50,
   "id": "floral-slovakia",
   "metadata": {},
   "outputs": [
    {
     "name": "stdout",
     "output_type": "stream",
     "text": [
      "数集集拆分\n",
      "Training Dataset Count: 712\n",
      "Test Dataset Count: 288\n"
     ]
    }
   ],
   "source": [
    "print('数集集拆分')\n",
    "train, test = df.randomSplit([0.7, 0.3], seed = 2018)\n",
    "print(\"Training Dataset Count: \" + str(train.count()))\n",
    "print(\"Test Dataset Count: \" + str(test.count()))"
   ]
  },
  {
   "cell_type": "code",
   "execution_count": 51,
   "id": "stretch-stability",
   "metadata": {},
   "outputs": [],
   "source": [
    "from pyspark.ml.classification import LogisticRegression\n",
    "\n",
    "from pyspark.ml.classification import RandomForestClassifier\n",
    "lr = RandomForestClassifier(featuresCol = 'features', labelCol = 'label')\n",
    "# lr = LogisticRegression(featuresCol = 'features', labelCol = 'label', maxIter=10)\n",
    "lrModel = lr.fit(train)\n"
   ]
  },
  {
   "cell_type": "code",
   "execution_count": 52,
   "id": "surgical-printer",
   "metadata": {},
   "outputs": [
    {
     "name": "stdout",
     "output_type": "stream",
     "text": [
      "监督机器学习机森林林结果：\n",
      "+---+---+-----+--------+-----+--------------------+----------+--------------------+\n",
      "|age|bmi|drink|diabetes|label|       rawPrediction|prediction|         probability|\n",
      "+---+---+-----+--------+-----+--------------------+----------+--------------------+\n",
      "| 60| 10|    1|       1|  0.0|[7.45377534594866...|       1.0|[0.37268876729743...|\n",
      "| 60| 28|    1|       0|  0.0|[7.55064803400495...|       1.0|[0.37753240170024...|\n",
      "| 61| 14|    0|       1|  0.0|[5.71869138041078...|       1.0|[0.28593456902053...|\n",
      "| 61| 14|    1|       1|  0.0|[6.86620258583776...|       1.0|[0.34331012929188...|\n",
      "| 61| 25|    0|       1|  0.0|[7.34772437293629...|       1.0|[0.36738621864681...|\n",
      "| 62| 11|    1|       0|  0.0|[8.84088785454370...|       1.0|[0.44204439272718...|\n",
      "| 62| 15|    0|       1|  0.0|[8.17183898161304...|       1.0|[0.40859194908065...|\n",
      "| 62| 20|    0|       1|  0.0|[8.30209561793375...|       1.0|[0.41510478089668...|\n",
      "| 62| 22|    1|       1|  0.0|[7.57885464690624...|       1.0|[0.37894273234531...|\n",
      "| 62| 23|    0|       1|  0.0|[8.15215366089348...|       1.0|[0.40760768304467...|\n",
      "+---+---+-----+--------+-----+--------------------+----------+--------------------+\n",
      "only showing top 10 rows\n",
      "\n",
      "Test Area Under ROC 0.5445436507936507\n"
     ]
    }
   ],
   "source": [
    "print('监督机器学习机森林林结果：')\n",
    "predictions = lrModel.transform(test)\n",
    "predictions.select('age','bmi','drink','diabetes', 'label', 'rawPrediction', 'prediction', 'probability').show(10)\n",
    "from pyspark.ml.evaluation import BinaryClassificationEvaluator\n",
    "evaluator = BinaryClassificationEvaluator()\n",
    "print('Test Area Under ROC', evaluator.evaluate(predictions))"
   ]
  },
  {
   "cell_type": "code",
   "execution_count": 53,
   "id": "interpreted-rapid",
   "metadata": {},
   "outputs": [],
   "source": [
    "from pyspark.ml.classification import LogisticRegression\n",
    "\n",
    "from pyspark.ml.classification import RandomForestClassifier\n",
    "# lr = RandomForestClassifier(featuresCol = 'features', labelCol = 'label')\n",
    "lr = LogisticRegression(featuresCol = 'features', labelCol = 'label', maxIter=10)\n",
    "lrModel = lr.fit(train)"
   ]
  },
  {
   "cell_type": "code",
   "execution_count": 54,
   "id": "changing-fellow",
   "metadata": {},
   "outputs": [
    {
     "data": {
      "image/png": "[encoded data removed]",
      "text/plain": [
       "<Figure size 432x288 with 1 Axes>"
      ]
     },
     "metadata": {
      "needs_background": "light"
     },
     "output_type": "display_data"
    }
   ],
   "source": [
    "import matplotlib.pyplot as plt\n",
    "import numpy as np\n",
    "beta = np.sort(lrModel.coefficients)\n",
    "plt.plot(beta)\n",
    "plt.ylabel('Beta Coefficients')\n",
    "plt.show()"
   ]
  },
  {
   "cell_type": "code",
   "execution_count": 55,
   "id": "healthy-forest",
   "metadata": {},
   "outputs": [
    {
     "data": {
      "image/png": "[encoded data removed]",
      "text/plain": [
       "<Figure size 432x288 with 1 Axes>"
      ]
     },
     "metadata": {
      "needs_background": "light"
     },
     "output_type": "display_data"
    },
    {
     "name": "stdout",
     "output_type": "stream",
     "text": [
      "Training set areaUnderROC: 0.6586661868777741\n"
     ]
    }
   ],
   "source": [
    "trainingSummary = lrModel.summary\n",
    "roc = trainingSummary.roc.toPandas()\n",
    "plt.plot(roc['FPR'],roc['TPR'])\n",
    "plt.ylabel('False Positive Rate')\n",
    "plt.xlabel('True Positive Rate')\n",
    "plt.title('ROC Curve')\n",
    "plt.show()\n",
    "print('Training set areaUnderROC: ' + str(trainingSummary.areaUnderROC))"
   ]
  },
  {
   "cell_type": "code",
   "execution_count": 56,
   "id": "italic-montgomery",
   "metadata": {},
   "outputs": [
    {
     "data": {
      "image/png": "[encoded data removed]",
      "text/plain": [
       "<Figure size 432x288 with 1 Axes>"
      ]
     },
     "metadata": {
      "needs_background": "light"
     },
     "output_type": "display_data"
    }
   ],
   "source": [
    "pr = trainingSummary.pr.toPandas()\n",
    "plt.plot(pr['recall'],pr['precision'])\n",
    "plt.ylabel('Precision')\n",
    "plt.xlabel('Recall')\n",
    "plt.show()"
   ]
  },
  {
   "cell_type": "code",
   "execution_count": 57,
   "id": "sustainable-investigator",
   "metadata": {},
   "outputs": [
    {
     "name": "stdout",
     "output_type": "stream",
     "text": [
      "监督机器学习逻辑回归之结果：\n",
      "+---+---+-----+--------+-----+--------------------+----------+--------------------+\n",
      "|age|bmi|drink|diabetes|label|       rawPrediction|prediction|         probability|\n",
      "+---+---+-----+--------+-----+--------------------+----------+--------------------+\n",
      "| 60| 10|    1|       1|  0.0|[0.39086438136328...|       0.0|[0.59649076418361...|\n",
      "| 60| 28|    1|       0|  0.0|[0.27365789311943...|       0.0|[0.56799069105892...|\n",
      "| 61| 14|    0|       1|  0.0|[-0.6661423005204...|       1.0|[0.33936118168710...|\n",
      "| 61| 14|    1|       1|  0.0|[0.42546324065091...|       0.0|[0.60478981344827...|\n",
      "| 61| 25|    0|       1|  0.0|[-0.6758991098255...|       1.0|[0.33717719250621...|\n",
      "| 62| 11|    1|       0|  0.0|[0.36503017829719...|       0.0|[0.59025755067911...|\n",
      "| 62| 15|    0|       1|  0.0|[-0.6288824932405...|       1.0|[0.34776397223299...|\n",
      "| 62| 20|    0|       1|  0.0|[-0.6333174065610...|       1.0|[0.34675870695927...|\n",
      "| 62| 22|    1|       1|  0.0|[0.45651416928214...|       0.0|[0.61218691514055...|\n",
      "| 62| 23|    0|       1|  0.0|[-0.6359783545533...|       1.0|[0.34615620275746...|\n",
      "+---+---+-----+--------+-----+--------------------+----------+--------------------+\n",
      "only showing top 10 rows\n",
      "\n",
      "Test Area Under ROC 0.6054811507936508\n"
     ]
    }
   ],
   "source": [
    "print('监督机器学习逻辑回归之结果：')\n",
    "predictions = lrModel.transform(test)\n",
    "predictions.select('age','bmi','drink','diabetes', 'label', 'rawPrediction', 'prediction', 'probability').show(10)\n",
    "from pyspark.ml.evaluation import BinaryClassificationEvaluator\n",
    "evaluator = BinaryClassificationEvaluator()\n",
    "print('Test Area Under ROC', evaluator.evaluate(predictions))"
   ]
  },
  {
   "cell_type": "code",
   "execution_count": 58,
   "id": "ideal-anxiety",
   "metadata": {},
   "outputs": [
    {
     "name": "stdout",
     "output_type": "stream",
     "text": [
      "非督督器学习习kmean\n",
      "2 cluster 实验\n"
     ]
    }
   ],
   "source": [
    "print('非督督器学习习kmean')\n",
    "from pyspark.ml.clustering import KMeans\n",
    "\n",
    "print('2 cluster 实验')\n",
    "kmeans = KMeans(k=2, seed=1)  # 2 clusters here\n",
    "model = kmeans.fit(df.select('features'))"
   ]
  },
  {
   "cell_type": "code",
   "execution_count": 59,
   "id": "missing-camel",
   "metadata": {},
   "outputs": [
    {
     "name": "stdout",
     "output_type": "stream",
     "text": [
      "+-----+-------------------+---+---+-----+-------------+--------+----------+\n",
      "|label|           features|age|bmi|drink|heart_disease|diabetes|prediction|\n",
      "+-----+-------------------+---+---+-----+-------------+--------+----------+\n",
      "|  1.0|[89.0,23.0,0.0,1.0]| 89| 23|    0|            0|       1|         1|\n",
      "|  0.0|[87.0,29.0,0.0,0.0]| 87| 29|    0|            1|       0|         1|\n",
      "|  1.0|[82.0,30.0,0.0,1.0]| 82| 30|    0|            0|       1|         1|\n",
      "|  0.0|[76.0,20.0,1.0,0.0]| 76| 20|    1|            1|       0|         1|\n",
      "|  1.0|[68.0,24.0,1.0,1.0]| 68| 24|    1|            0|       1|         0|\n",
      "|  0.0|[81.0,11.0,1.0,1.0]| 81| 11|    1|            1|       1|         1|\n",
      "|  1.0|[87.0,23.0,0.0,1.0]| 87| 23|    0|            0|       1|         1|\n",
      "|  0.0|[75.0,22.0,1.0,0.0]| 75| 22|    1|            1|       0|         0|\n",
      "|  1.0|[60.0,14.0,0.0,1.0]| 60| 14|    0|            0|       1|         0|\n",
      "|  0.0|[90.0,29.0,0.0,1.0]| 90| 29|    0|            1|       1|         1|\n",
      "|  0.0|[73.0,16.0,0.0,0.0]| 73| 16|    0|            1|       0|         0|\n",
      "|  1.0|[82.0,21.0,1.0,1.0]| 82| 21|    1|            0|       1|         1|\n",
      "|  1.0|[66.0,25.0,0.0,1.0]| 66| 25|    0|            0|       1|         0|\n",
      "|  0.0|[86.0,23.0,0.0,1.0]| 86| 23|    0|            1|       1|         1|\n",
      "|  1.0|[88.0,14.0,0.0,0.0]| 88| 14|    0|            0|       0|         1|\n",
      "|  1.0|[88.0,21.0,0.0,0.0]| 88| 21|    0|            0|       0|         1|\n",
      "|  0.0|[75.0,30.0,1.0,0.0]| 75| 30|    1|            1|       0|         0|\n",
      "|  0.0|[78.0,20.0,0.0,0.0]| 78| 20|    0|            1|       0|         1|\n",
      "|  1.0|[75.0,11.0,0.0,0.0]| 75| 11|    0|            0|       0|         1|\n",
      "|  0.0|[89.0,25.0,0.0,0.0]| 89| 25|    0|            1|       0|         1|\n",
      "+-----+-------------------+---+---+-----+-------------+--------+----------+\n",
      "only showing top 20 rows\n",
      "\n"
     ]
    }
   ],
   "source": [
    "transformed = model.transform(df)\n",
    "transformed.show()    "
   ]
  },
  {
   "cell_type": "code",
   "execution_count": 60,
   "id": "religious-element",
   "metadata": {},
   "outputs": [
    {
     "name": "stdout",
     "output_type": "stream",
     "text": [
      "无督督分类k= 2\n",
      "无督督分类k= 3\n",
      "无督督分类k= 4\n",
      "无督督分类k= 5\n",
      "无督督分类k= 6\n",
      "无督督分类k= 7\n",
      "无督督分类k= 8\n",
      "无督督分类k= 9\n",
      "无督督分类k= 10\n"
     ]
    }
   ],
   "source": [
    "from pyspark.ml.clustering import KMeans\n",
    "from pyspark.ml.evaluation import ClusteringEvaluator\n",
    "\n",
    "silhouette_scores=[]\n",
    "evaluator = ClusteringEvaluator(featuresCol='features', \\\n",
    "metricName='silhouette', distanceMeasure='squaredEuclidean')\n",
    "\n",
    "for K in range(2,11):\n",
    "    print('无督督分类k=', K)\n",
    "    KMeans_=KMeans(featuresCol='features', k=K)\n",
    "\n",
    "    KMeans_fit=KMeans_.fit(df.select('features'))\n",
    "\n",
    "    KMeans_transform=KMeans_fit.transform(df.select('features')) \n",
    "\n",
    "    evaluation_score=evaluator.evaluate(KMeans_transform)\n",
    "\n",
    "    silhouette_scores.append(evaluation_score)"
   ]
  },
  {
   "cell_type": "code",
   "execution_count": 61,
   "id": "unexpected-insurance",
   "metadata": {},
   "outputs": [
    {
     "name": "stdout",
     "output_type": "stream",
     "text": [
      "绘制轮廓分数与聚类数量的关系\n"
     ]
    },
    {
     "data": {
      "image/png": "[encoded data removed]",
      "text/plain": [
       "<Figure size 720x576 with 1 Axes>"
      ]
     },
     "metadata": {
      "needs_background": "light"
     },
     "output_type": "display_data"
    }
   ],
   "source": [
    "import matplotlib.pyplot as plt\n",
    "fig, ax = plt.subplots(1,1, figsize =(10,8))\n",
    "ax.plot(range(2,11),silhouette_scores)\n",
    "ax.set_xlabel('Number of Clusters')\n",
    "ax.set_ylabel('Silhouette Score')\n",
    "print('绘制轮廓分数与聚类数量的关系')"
   ]
  },
  {
   "cell_type": "code",
   "execution_count": null,
   "id": "instrumental-train",
   "metadata": {},
   "outputs": [],
   "source": []
  },
  {
   "cell_type": "code",
   "execution_count": null,
   "id": "nominated-cooperative",
   "metadata": {},
   "outputs": [],
   "source": []
  },
  {
   "cell_type": "code",
   "execution_count": null,
   "id": "internal-strain",
   "metadata": {},
   "outputs": [],
   "source": []
  }
 ],
 "metadata": {
  "kernelspec": {
   "display_name": "Python 3 (ipykernel)",
   "language": "python",
   "name": "python3"
  },
  "language_info": {
   "codemirror_mode": {
    "name": "ipython",
    "version": 3
   },
   "file_extension": ".py",
   "mimetype": "text/x-python",
   "name": "python",
   "nbconvert_exporter": "python",
   "pygments_lexer": "ipython3",
   "version": "3.8.9"
  }
 },
 "nbformat": 4,
 "nbformat_minor": 5
}
